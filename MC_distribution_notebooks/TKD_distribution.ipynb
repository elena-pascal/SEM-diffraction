{
 "cells": [
  {
   "cell_type": "markdown",
   "metadata": {
    "deletable": true,
    "editable": true
   },
   "source": [
    "#### Libraries used "
   ]
  },
  {
   "cell_type": "code",
   "execution_count": 2,
   "metadata": {
    "collapsed": true,
    "deletable": true,
    "editable": true
   },
   "outputs": [],
   "source": [
    "import numpy as np     \n",
    "\n",
    "import plotly.offline as offline       # a number of plotly goodies\n",
    "import plotly.plotly as py\n",
    "import plotly.graph_objs as go\n",
    "import plotly.figure_factory as ff\n",
    "\n",
    "import matplotlib as mlab\n",
    "import matplotlib.pyplot as plt        # some matplotlib for good measure\n",
    "from matplotlib.colors import LogNorm\n",
    "\n",
    "import scipy.stats as st               # and scipy in case everything else fails\n",
    "from scipy import interpolate\n",
    "from scipy.interpolate import griddata"
   ]
  },
  {
   "cell_type": "markdown",
   "metadata": {
    "deletable": true,
    "editable": true
   },
   "source": [
    "#### EMMC output data\n",
    "\n",
    "### 10k electrons incident on a Si sample tilted by 70 degrees"
   ]
  },
  {
   "cell_type": "code",
   "execution_count": 3,
   "metadata": {
    "collapsed": true,
    "deletable": true,
    "editable": true
   },
   "outputs": [],
   "source": [
    "fileName = '../EMMCoutput/singlerun.txt'"
   ]
  },
  {
   "cell_type": "markdown",
   "metadata": {
    "deletable": true,
    "editable": true
   },
   "source": [
    "#### Initialise arrays"
   ]
  },
  {
   "cell_type": "code",
   "execution_count": 4,
   "metadata": {
    "collapsed": true,
    "deletable": true,
    "editable": true
   },
   "outputs": [],
   "source": [
    "el = -1        #electon identifier\n",
    "step = 0       #step number\n",
    "energy = []    #energy array of electron el\n",
    "energy.append([])\n",
    "xyz = []       # xyz positions array for electron el\n",
    "xyz.append([])\n",
    "cxyz = []      # directional cosines array for electron el\n",
    "cxyz.append([])"
   ]
  },
  {
   "cell_type": "markdown",
   "metadata": {
    "deletable": true,
    "editable": true
   },
   "source": [
    "#### Read and clasify the data"
   ]
  },
  {
   "cell_type": "code",
   "execution_count": 5,
   "metadata": {
    "collapsed": false,
    "deletable": true,
    "editable": true
   },
   "outputs": [],
   "source": [
    "with open(fileName, \"r\") as data:\n",
    "    for line in data: #read one line at a time\n",
    "        column = line.replace(':',' ').replace(',',' ').split()\n",
    "\n",
    "\n",
    "        if column[0] is '0': #reinitialise and update\n",
    "            energy.append([])\n",
    "            cxyz.append([])\n",
    "            xyz.append([])\n",
    "\n",
    "            el = el + 1\n",
    "\n",
    "        energy[el].append(float(column[1]))\n",
    "        cxyz[el].append([ float(column[2]), float(column[3]), float(column[4]) ])\n",
    "        xyz[el].append([ float(column[5]), float(column[6]), float(column[7]) ])"
   ]
  },
  {
   "cell_type": "code",
   "execution_count": null,
   "metadata": {
    "collapsed": true,
    "deletable": true,
    "editable": true
   },
   "outputs": [],
   "source": []
  },
  {
   "cell_type": "code",
   "execution_count": 9,
   "metadata": {
    "collapsed": false,
    "deletable": true,
    "editable": true
   },
   "outputs": [
    {
     "name": "stdout",
     "output_type": "stream",
     "text": [
      "number of transmitted electrons:  19594\n"
     ]
    }
   ],
   "source": [
    "TSE2 = 0\n",
    "\n",
    "zmax = -200   # in nanometers\n",
    "\n",
    "t_energy = [] #energy array of transmitted electron el\n",
    "t_energy.append([])\n",
    "t_xyz = []    #xyz position array for transmitted electron el\n",
    "t_xyz.append([])\n",
    "t_cxyz = []   #directional cosines array for transmitted electron el\n",
    "t_cxyz.append([])\n",
    "\n",
    "for i in range(el+1):\n",
    "\n",
    "    zs = [positions[2] for positions in xyz[i] ] # z values\n",
    "\n",
    "    if any( z < zmax for z in zs ): #transmitted\n",
    "        #find index of last event before exit\n",
    "        indexin = np.where(np.array(zs)<zmax)\n",
    "        last_event = indexin[0][0]\n",
    "\n",
    "        t_energy[TSE2] = energy[i][0:last_event]\n",
    "        t_cxyz[TSE2] = cxyz[i][0:last_event]\n",
    "        t_xyz[TSE2] = xyz[i][0:last_event]\n",
    "\n",
    "        TSE2 = TSE2 + 1\n",
    "        t_energy.append([])\n",
    "        t_xyz.append([])\n",
    "        t_cxyz.append([])\n",
    "        \n",
    "print \"number of transmitted electrons: \", TSE2        "
   ]
  },
  {
   "cell_type": "code",
   "execution_count": 10,
   "metadata": {
    "collapsed": true,
    "deletable": true,
    "editable": true
   },
   "outputs": [],
   "source": [
    "t_xs = [] # list of transmitted electrons x positions\n",
    "t_zs = []\n",
    "for traj in t_xyz:\n",
    "    for event in traj:\n",
    "        t_xs.append(event[0])\n",
    "        t_zs.append(event[2])\n",
    "\n",
    "t_energy_ar = np.array([item for sublist in t_energy for item in sublist])\n",
    "t_xs_ar = np.array(t_xs)\n",
    "t_zs_ar = np.array(t_zs)"
   ]
  },
  {
   "cell_type": "markdown",
   "metadata": {
    "deletable": true,
    "editable": true
   },
   "source": [
    "#### KDE colours:"
   ]
  },
  {
   "cell_type": "code",
   "execution_count": 27,
   "metadata": {
    "collapsed": true,
    "deletable": true,
    "editable": true
   },
   "outputs": [],
   "source": [
    "purples=[[0.0,   '#fcf9f7'],\n",
    " [0.1666666666666666, '#edcfc9'],\n",
    " [0.3333333333333333, '#daa2ac'],\n",
    " [0.5,                '#bc7897'],\n",
    " [0.6666666666666666, '#925684'],\n",
    " [0.8333333333333333, '#5f3868'],\n",
    " [1.0,                '#2d1e3e']]\n",
    "\n",
    "x1, x2 = (0, 2000)\n",
    "y1, y2 = (zmax, 0)"
   ]
  },
  {
   "cell_type": "markdown",
   "metadata": {
    "deletable": true,
    "editable": true
   },
   "source": [
    "### KDE plot function:"
   ]
  },
  {
   "cell_type": "code",
   "execution_count": 28,
   "metadata": {
    "collapsed": true,
    "deletable": true,
    "editable": true
   },
   "outputs": [],
   "source": [
    "def kde_scipy( vals1, vals2, (a,b), (c,d), N, bw ):\n",
    "\n",
    "    #vals1, vals2 are the values of two variables (columns)\n",
    "    #(a,b) interval for vals1; usually larger than (np.min(vals1), np.max(vals1))\n",
    "    #(c,d) -\"-          vals2\n",
    "\n",
    "    x = np.linspace(a,b,N)\n",
    "    y = np.linspace(c,d,N)\n",
    "    X,Y = np.meshgrid(x,y)\n",
    "    positions = np.vstack([Y.ravel(), X.ravel()])\n",
    "\n",
    "    values = np.vstack([vals1, vals2])\n",
    "    kernel = st.gaussian_kde(values, bw_method = bw)\n",
    "    Z = np.reshape(kernel(positions).T, X.shape)\n",
    "\n",
    "    return [x, y, Z]\n",
    "\n",
    "def make_kdedata(varX, varY, (a,b), (c,d), N, bw, colorsc):\n",
    "    #varX, varY are lists, 1d numpy.array(s), or dataframe columns, storing the values of two variables\n",
    "\n",
    "    x, y, Z = kde_scipy(varY, varX, (a,b), (c,d), N, bw )\n",
    "\n",
    "    data = go.Data([\n",
    "       go.Contour(\n",
    "           z=Z,\n",
    "           x=x,\n",
    "           y=y,\n",
    "           colorscale=colorsc,\n",
    "           #reversescale=True,\n",
    "           opacity=0.9,\n",
    "           contours=go.Contours(\n",
    "               showlines=False)\n",
    "        ),\n",
    "     ])\n",
    "    \n",
    "    return data\n",
    "\n"
   ]
  },
  {
   "cell_type": "markdown",
   "metadata": {
    "deletable": true,
    "editable": true
   },
   "source": [
    "### Scatter plot function"
   ]
  },
  {
   "cell_type": "code",
   "execution_count": 75,
   "metadata": {
    "collapsed": false,
    "deletable": true,
    "editable": true
   },
   "outputs": [],
   "source": [
    "def make_ScatterTrace(varX, varY, weight=None):\n",
    "\n",
    "    if (weight is not None ):      \n",
    "        traceScatter = go.Scatter(\n",
    "                    x = varX,\n",
    "                    y = varY,\n",
    "                    mode = 'markers',\n",
    "                    name = 'events',\n",
    "                    marker = dict(\n",
    "                    color='#2d1e3e',\n",
    "                    size = weight,\n",
    "                    opacity=0.4\n",
    "                    )\n",
    "                )\n",
    "    else :   \n",
    "        traceScatter = go.Scatter(\n",
    "                    x = varX,\n",
    "                    y = varY,\n",
    "                    mode = 'markers',\n",
    "                    name = 'events',\n",
    "                    marker = dict(\n",
    "                    color='#2d1e3e',\n",
    "                    size = 2,\n",
    "                    opacity=0.4\n",
    "                    )\n",
    "                )     \n",
    "                \n",
    "    return traceScatter"
   ]
  },
  {
   "cell_type": "markdown",
   "metadata": {
    "deletable": true,
    "editable": true
   },
   "source": [
    "### Side histogram for depth distribution function "
   ]
  },
  {
   "cell_type": "code",
   "execution_count": 30,
   "metadata": {
    "collapsed": true,
    "deletable": true,
    "editable": true
   },
   "outputs": [],
   "source": [
    "def make_sideHistogram(varY):\n",
    "    traceHside = go.Histogram(\n",
    "        y = varY,\n",
    "        name = 'events',\n",
    "        histnorm = 'probability',\n",
    "        autobinx = True,\n",
    "        #ybins = dict(\n",
    "        #        start=zmax,\n",
    "        #        end=0,\n",
    "        #        size=50\n",
    "        #    ),\n",
    "        marker = dict(color='#2d1e3e'),\n",
    "        xaxis = 'x2'\n",
    "    )\n",
    "    return traceHside"
   ]
  },
  {
   "cell_type": "markdown",
   "metadata": {
    "deletable": true,
    "editable": true
   },
   "source": [
    "#### The layout for scatter + side histogram"
   ]
  },
  {
   "cell_type": "code",
   "execution_count": 31,
   "metadata": {
    "collapsed": true,
    "deletable": true,
    "editable": true
   },
   "outputs": [],
   "source": [
    "layoutSandH = go.Layout(\n",
    "    showlegend=False,\n",
    "    autosize=False,\n",
    "    width=880,\n",
    "    height=650,\n",
    "\n",
    "    xaxis=dict(go.XAxis(range=[x1, x2]),\n",
    "               domain=[0, 0.81],\n",
    "               nticks=5,\n",
    "               showgrid=False,\n",
    "               zeroline=False,\n",
    "               title='x Axis (nm)',\n",
    "               titlefont=dict(\n",
    "               family='Courier New, monospace',\n",
    "               size=20,\n",
    "               color='#7f7f7f')\n",
    "        ),\n",
    "    yaxis=dict(go.YAxis(range=[y1,y2]),\n",
    "               domain=[0, 1],\n",
    "               nticks=5,\n",
    "               showgrid=False,\n",
    "               zeroline=False,\n",
    "               title='z Axis (nm)',\n",
    "               titlefont=dict(\n",
    "               family='Courier New, monospace',\n",
    "               size=20,\n",
    "               color='#7f7f7f')\n",
    "    ),\n",
    "\n",
    "    margin=dict(\n",
    "             t=50\n",
    "    ),\n",
    "\n",
    "    hovermode='closest',\n",
    "    bargap=0,\n",
    "    xaxis2=dict(\n",
    "        domain=[0.85, 1],\n",
    "        showgrid=False,\n",
    "        zeroline=False\n",
    "    ),\n",
    "    #title='Elastic events scatter plot',\n",
    "    #paper_bgcolor='rgba(0,0,0,0)',\n",
    "    #plot_bgcolor='rgba(0,0,0,0)'\n",
    ")"
   ]
  },
  {
   "cell_type": "markdown",
   "metadata": {
    "deletable": true,
    "editable": true
   },
   "source": [
    "#### Uniform or nonuniform sampling"
   ]
  },
  {
   "cell_type": "code",
   "execution_count": 32,
   "metadata": {
    "collapsed": true,
    "deletable": true,
    "editable": true
   },
   "outputs": [],
   "source": [
    "def uniform_sample(nu, au):\n",
    "    # numpy.random.choice(a, size=size, replace=True, p=None)\n",
    "    return np.random.choice(au, size=nu, replace=True)\n",
    "\n",
    "\n",
    "\n",
    "def nonuniform_sample(nn, an, p):\n",
    "    # numpy.random.choice(a, size=size, replace=True, p=p)\n",
    "    return np.random.choice(an, size=nn, replace=True, p=p)"
   ]
  },
  {
   "cell_type": "markdown",
   "metadata": {
    "deletable": true,
    "editable": true
   },
   "source": [
    "### Create a small, fast plottable sample from all the postions of electrons"
   ]
  },
  {
   "cell_type": "code",
   "execution_count": 33,
   "metadata": {
    "collapsed": false,
    "deletable": true,
    "editable": true
   },
   "outputs": [],
   "source": [
    "num = 5000\n",
    "# sample from the indexes\n",
    "sample_idxs = uniform_sample(num,len(t_xs_ar))\n",
    "\n",
    "t_sample_xs = t_xs_ar[sample_idxs]\n",
    "t_sample_zs = t_zs_ar[sample_idxs]\n",
    "t_sample_energy = t_energy_ar[sample_idxs]\n"
   ]
  },
  {
   "cell_type": "markdown",
   "metadata": {
    "deletable": true,
    "editable": true
   },
   "source": [
    "#### Show the scatter plot for a 5000 elastic events sample"
   ]
  },
  {
   "cell_type": "code",
   "execution_count": 34,
   "metadata": {
    "collapsed": false,
    "deletable": true,
    "editable": true
   },
   "outputs": [
    {
     "data": {
      "text/html": [
       "<iframe id=\"igraph\" scrolling=\"no\" style=\"border:none;\" seamless=\"seamless\" src=\"https://plot.ly/~elena.pascal/246.embed\" height=\"650px\" width=\"880px\"></iframe>"
      ],
      "text/plain": [
       "<plotly.tools.PlotlyDisplay object>"
      ]
     },
     "execution_count": 34,
     "metadata": {},
     "output_type": "execute_result"
    }
   ],
   "source": [
    "traceScatter = make_ScatterTrace(t_sample_xs, t_sample_zs)\n",
    "traceHside = make_sideHistogram(t_sample_zs)\n",
    "dataToPlot = [traceScatter, traceHside]\n",
    "figSandH = go.Figure(data=dataToPlot, layout=layoutSandH)\n",
    "py.iplot(figSandH)"
   ]
  },
  {
   "cell_type": "markdown",
   "metadata": {
    "deletable": true,
    "editable": true
   },
   "source": [
    "#### A closer look at the depth distribution"
   ]
  },
  {
   "cell_type": "code",
   "execution_count": 36,
   "metadata": {
    "collapsed": false,
    "deletable": true,
    "editable": true
   },
   "outputs": [
    {
     "data": {
      "text/html": [
       "<iframe id=\"igraph\" scrolling=\"no\" style=\"border:none;\" seamless=\"seamless\" src=\"https://plot.ly/~elena.pascal/250.embed\" height=\"525px\" width=\"100%\"></iframe>"
      ],
      "text/plain": [
       "<plotly.tools.PlotlyDisplay object>"
      ]
     },
     "execution_count": 36,
     "metadata": {},
     "output_type": "execute_result"
    }
   ],
   "source": [
    "figDepth = ff.create_distplot([ t_sample_zs], ['depth density'],  bin_size=10 )\n",
    "py.iplot(figDepth, filename = 'Transmitted electrons unweighted  Depth Distribution ' )"
   ]
  },
  {
   "cell_type": "markdown",
   "metadata": {
    "deletable": true,
    "editable": true
   },
   "source": [
    "#### Show the KDE plot"
   ]
  },
  {
   "cell_type": "code",
   "execution_count": 37,
   "metadata": {
    "collapsed": false,
    "deletable": true,
    "editable": true
   },
   "outputs": [
    {
     "data": {
      "text/html": [
       "<iframe id=\"igraph\" scrolling=\"no\" style=\"border:none;\" seamless=\"seamless\" src=\"https://plot.ly/~elena.pascal/252.embed\" height=\"525px\" width=\"100%\"></iframe>"
      ],
      "text/plain": [
       "<plotly.tools.PlotlyDisplay object>"
      ]
     },
     "execution_count": 37,
     "metadata": {},
     "output_type": "execute_result"
    }
   ],
   "source": [
    "N = 200 # point to sample on a mesh for the KDE\n",
    "bw = 0.2 # bandwidth\n",
    "KDEdata = make_kdedata(t_sample_xs, t_sample_zs, (x1, x2), (y1, y2), N, bw, purples)\n",
    "\n",
    "layoutKDE =  go.Layout(xaxis = dict(title = 'X axis (nm)'), \n",
    "                    yaxis = dict(title = 'Z axis (nm)'),\n",
    "                    title = 'Uniformly sampled KDE')\n",
    "figureKDE = go.Figure(data=KDEdata, layout= layoutKDE)\n",
    "\n",
    "py.iplot(figureKDE)"
   ]
  },
  {
   "cell_type": "markdown",
   "metadata": {
    "deletable": true,
    "editable": true
   },
   "source": [
    "#### What if we treat the spatial distribution as a probability distribution function"
   ]
  },
  {
   "cell_type": "code",
   "execution_count": 57,
   "metadata": {
    "collapsed": false,
    "deletable": true,
    "editable": true
   },
   "outputs": [
    {
     "data": {
      "image/png": "[encoded data removed]",
      "text/plain": [
       "<matplotlib.figure.Figure at 0x7f8b6dbf0690>"
      ]
     },
     "metadata": {},
     "output_type": "display_data"
    }
   ],
   "source": [
    "xKDE, yKDE, ZKDE = kde_scipy(t_sample_zs, t_sample_xs, (x1,x2), (y1,y2), N, bw )\n",
    "ZKDE = ZKDE / ZKDE.sum()\n",
    "\n",
    "n = 100\n",
    "t = np.linspace(0, ZKDE.max(), n)\n",
    "integral = ((ZKDE >= t[:, None, None]) * ZKDE).sum(axis=(1,2))\n",
    "\n",
    "\n",
    "\n",
    "f = interpolate.interp1d(integral, t)\n",
    "t_contours = f(np.array([0.9, 0.8, 0.7, 0.6, 0.5, 0.4, 0.3, 0.2, 0.1]))\n",
    "plt.imshow(ZKDE, origin='lower', extent=[x1, x2, y1, y2], cmap=\"gray\")\n",
    "CS = plt.contour(ZKDE, t_contours, extent=[x1, x2, y1, y2])\n",
    "\n",
    "labels = ['90%', '80%','70%','60%', '50%', '40%', '30%', '20%', '10%']\n",
    "for i in range(len(labels)):\n",
    "    CS.collections[i].set_label(labels[i])\n",
    "    \n",
    "plt.title('Probabilistic sampling')\n",
    "plt.legend(bbox_to_anchor=(1.0, 1.05))\n",
    "\n",
    "fig_size = plt.rcParams[\"figure.figsize\"]\n",
    "fig_size[0] = 20\n",
    "fig_size[1] = 12\n",
    "plt.show()"
   ]
  },
  {
   "cell_type": "code",
   "execution_count": 60,
   "metadata": {
    "collapsed": false,
    "deletable": true,
    "editable": true
   },
   "outputs": [],
   "source": [
    "xz_sample = np.array([(a,b) for a, b in zip(*(t_sample_xs, t_sample_zs))])\n",
    "inCont = np.zeros((9, num))\n",
    "\n",
    "for line in range(8):\n",
    "    p = CS.collections[line].get_paths()[0]\n",
    "    x = p.vertices[:,0]\n",
    "    z = p.vertices[:,1]\n",
    "    XZ = np.array([(a,b) for a, b in zip(*(x, z))])\n",
    "\n",
    "    contour = mlab.path.Path(XZ)\n",
    "    inCont[line] = contour.contains_points(xz_sample)\n",
    "    \n",
    "p_weights = [sum([yesno[point] for yesno in inCont]) for point in range(num)]\n",
    "\n",
    "\n",
    "\n",
    "sum_pweights = sum(p_weights)\n",
    "t_weight_p = p_weights/sum_pweights # normalise this array to probabilities\n",
    "\n",
    "n_p = 5000\n",
    "Psample_indxs = nonuniform_sample(n_p , len(t_sample_xs), t_weight_p)\n",
    "\n",
    "t_NUsample_x = t_sample_xs[Psample_indxs]\n",
    "t_NUsample_z = t_sample_zs[Psample_indxs]\n",
    "t_NUsample_energy = t_sample_energy[Psample_indxs]\n",
    "\n",
    "\n"
   ]
  },
  {
   "cell_type": "markdown",
   "metadata": {
    "deletable": true,
    "editable": true
   },
   "source": [
    "#### The scatter plot looks like"
   ]
  },
  {
   "cell_type": "code",
   "execution_count": 61,
   "metadata": {
    "collapsed": false,
    "deletable": true,
    "editable": true
   },
   "outputs": [
    {
     "data": {
      "text/html": [
       "<iframe id=\"igraph\" scrolling=\"no\" style=\"border:none;\" seamless=\"seamless\" src=\"https://plot.ly/~elena.pascal/254.embed\" height=\"650px\" width=\"880px\"></iframe>"
      ],
      "text/plain": [
       "<plotly.tools.PlotlyDisplay object>"
      ]
     },
     "execution_count": 61,
     "metadata": {},
     "output_type": "execute_result"
    }
   ],
   "source": [
    "traceScatter = make_ScatterTrace(t_NUsample_x, t_NUsample_z)\n",
    "traceHside = make_sideHistogram(t_NUsample_z)\n",
    "dataToPlot = [traceScatter, traceHside]\n",
    "figSandH = go.Figure(data=dataToPlot, layout=layoutSandH)\n",
    "py.iplot(figSandH)\n",
    "\n"
   ]
  },
  {
   "cell_type": "markdown",
   "metadata": {
    "deletable": true,
    "editable": true
   },
   "source": [
    "#### The depth histogram is:"
   ]
  },
  {
   "cell_type": "code",
   "execution_count": 69,
   "metadata": {
    "collapsed": false,
    "deletable": true,
    "editable": true
   },
   "outputs": [
    {
     "data": {
      "text/html": [
       "<iframe id=\"igraph\" scrolling=\"no\" style=\"border:none;\" seamless=\"seamless\" src=\"https://plot.ly/~elena.pascal/56.embed\" height=\"525px\" width=\"100%\"></iframe>"
      ],
      "text/plain": [
       "<plotly.tools.PlotlyDisplay object>"
      ]
     },
     "execution_count": 69,
     "metadata": {},
     "output_type": "execute_result"
    }
   ],
   "source": [
    "figDepth = ff.create_distplot([t_NUsample_z], ['depth probability of finding electrons'],  bin_size=10 )\n",
    "py.iplot(figDepth, filename = 'Frequency of incoherent scattering with depth' )"
   ]
  },
  {
   "cell_type": "code",
   "execution_count": 65,
   "metadata": {
    "collapsed": false,
    "deletable": true,
    "editable": true
   },
   "outputs": [
    {
     "data": {
      "text/html": [
       "<iframe id=\"igraph\" scrolling=\"no\" style=\"border:none;\" seamless=\"seamless\" src=\"https://plot.ly/~elena.pascal/260.embed\" height=\"525px\" width=\"100%\"></iframe>"
      ],
      "text/plain": [
       "<plotly.tools.PlotlyDisplay object>"
      ]
     },
     "execution_count": 65,
     "metadata": {},
     "output_type": "execute_result"
    }
   ],
   "source": [
    "N = 400 # point to sample on a mesh for the KDE\n",
    "bw = 0.2 # bandwidth\n",
    "KDEdata = make_kdedata(t_NUsample_x, t_NUsample_z, (x1, x2), (y1, y2), N, bw, purples)\n",
    "\n",
    "layoutKDE =  go.Layout(xaxis = dict(title = 'X axis (nm)'), \n",
    "                    yaxis = dict(title = 'Z axis (nm)'),\n",
    "                    title = 'Non-uniformly sampled KDE')\n",
    "figureKDE = go.Figure(data=KDEdata, layout= layoutKDE)\n",
    "\n",
    "py.iplot(figureKDE)"
   ]
  },
  {
   "cell_type": "markdown",
   "metadata": {
    "deletable": true,
    "editable": true
   },
   "source": [
    "## Probability of incohernet scattering at a depth z"
   ]
  },
  {
   "cell_type": "code",
   "execution_count": 66,
   "metadata": {
    "collapsed": true,
    "deletable": true,
    "editable": true
   },
   "outputs": [],
   "source": [
    "lost_energies = 20.-  np.array(t_NUsample_energy)\n",
    "sum_energies = sum(lost_energies)\n",
    "t_weight_z = lost_energies/ sum_energies # normalise this array to probabilities\n",
    "\n",
    "n = 4000\n",
    "Ssample_indxs = nonuniform_sample(n , len(t_NUsample_z), t_weight_z)\n",
    "\n",
    "t_Ssample_z = t_NUsample_z[Ssample_indxs]\n",
    "t_Ssample_x = t_NUsample_x[Ssample_indxs]\n",
    "t_Ssample_energy = t_NUsample_energy[Ssample_indxs]\n",
    "\n",
    "point_size = lost_energies[Ssample_indxs] # for scatter plot"
   ]
  },
  {
   "cell_type": "code",
   "execution_count": 79,
   "metadata": {
    "collapsed": false,
    "deletable": true,
    "editable": true
   },
   "outputs": [
    {
     "data": {
      "text/html": [
       "<iframe id=\"igraph\" scrolling=\"no\" style=\"border:none;\" seamless=\"seamless\" src=\"https://plot.ly/~elena.pascal/276.embed\" height=\"650px\" width=\"880px\"></iframe>"
      ],
      "text/plain": [
       "<plotly.tools.PlotlyDisplay object>"
      ]
     },
     "execution_count": 79,
     "metadata": {},
     "output_type": "execute_result"
    }
   ],
   "source": [
    "traceScatter = make_ScatterTrace(t_Ssample_x, t_Ssample_z,point_size*100 )\n",
    "traceHside = make_sideHistogram(t_Ssample_z)\n",
    "dataToPlot = [traceScatter, traceHside]\n",
    "figSandH = go.Figure(data=dataToPlot, layout=layoutSandH)\n",
    "py.iplot(figSandH)"
   ]
  },
  {
   "cell_type": "code",
   "execution_count": 68,
   "metadata": {
    "collapsed": false,
    "deletable": true,
    "editable": true
   },
   "outputs": [
    {
     "data": {
      "text/html": [
       "<iframe id=\"igraph\" scrolling=\"no\" style=\"border:none;\" seamless=\"seamless\" src=\"https://plot.ly/~elena.pascal/56.embed\" height=\"525px\" width=\"100%\"></iframe>"
      ],
      "text/plain": [
       "<plotly.tools.PlotlyDisplay object>"
      ]
     },
     "execution_count": 68,
     "metadata": {},
     "output_type": "execute_result"
    }
   ],
   "source": [
    "figDepth = ff.create_distplot([t_Ssample_z], ['depth probability of incoherent scattering'],  bin_size=10 )\n",
    "py.iplot(figDepth, filename = 'Frequency of incoherent scattering with depth' )"
   ]
  },
  {
   "cell_type": "code",
   "execution_count": 71,
   "metadata": {
    "collapsed": false,
    "deletable": true,
    "editable": true
   },
   "outputs": [
    {
     "data": {
      "text/html": [
       "<iframe id=\"igraph\" scrolling=\"no\" style=\"border:none;\" seamless=\"seamless\" src=\"https://plot.ly/~elena.pascal/266.embed\" height=\"525px\" width=\"100%\"></iframe>"
      ],
      "text/plain": [
       "<plotly.tools.PlotlyDisplay object>"
      ]
     },
     "execution_count": 71,
     "metadata": {},
     "output_type": "execute_result"
    }
   ],
   "source": [
    "N = 400 # point to sample on a mesh for the KDE\n",
    "bw = 0.2 # bandwidth\n",
    "KDEdata = make_kdedata(t_Ssample_x, t_Ssample_z, (x1, x2), (y1, y2), N, bw, purples)\n",
    "\n",
    "layoutKDE =  go.Layout(xaxis = dict(title = 'X axis (nm)'), \n",
    "                    yaxis = dict(title = 'Z axis (nm)'),\n",
    "                    title = 'Non-uniformly sampled KDE')\n",
    "figureKDE = go.Figure(data=KDEdata, layout= layoutKDE)\n",
    "\n",
    "py.iplot(figureKDE)"
   ]
  },
  {
   "cell_type": "markdown",
   "metadata": {
    "deletable": true,
    "editable": true
   },
   "source": [
    "## Probability for an incoherent electron to reach the detector"
   ]
  },
  {
   "cell_type": "code",
   "execution_count": 93,
   "metadata": {
    "collapsed": true,
    "deletable": true,
    "editable": true
   },
   "outputs": [],
   "source": [
    "# let zmax be sample thickness\n",
    "t_escape= np.exp((zmax-t_Ssample_z)*2./-zmax)\n",
    "sum_escape = sum(t_escape)\n",
    "t_weight_escape = t_escape/ sum_escape # normalise this array to probabilities\n",
    "\n",
    "\n",
    "n = 5000\n",
    "Isample_indxs = nonuniform_sample(n, len(t_Ssample_z), t_weight_escape)\n",
    "\n",
    "t_Isample_z = t_Ssample_z[Isample_indxs]\n",
    "t_Isample_x = t_Ssample_x[Isample_indxs]\n",
    "t_Isample_energy = t_Ssample_energy[Isample_indxs]\n"
   ]
  },
  {
   "cell_type": "code",
   "execution_count": 94,
   "metadata": {
    "collapsed": false,
    "deletable": true,
    "editable": true
   },
   "outputs": [
    {
     "data": {
      "text/html": [
       "<iframe id=\"igraph\" scrolling=\"no\" style=\"border:none;\" seamless=\"seamless\" src=\"https://plot.ly/~elena.pascal/340.embed\" height=\"525px\" width=\"100%\"></iframe>"
      ],
      "text/plain": [
       "<plotly.tools.PlotlyDisplay object>"
      ]
     },
     "execution_count": 94,
     "metadata": {},
     "output_type": "execute_result"
    }
   ],
   "source": [
    "traceScatter = make_ScatterTrace(t_Isample_z, t_weight_escape[Isample_indxs])\n",
    "\n",
    "dataToPlot = [traceScatter]\n",
    "\n",
    "layout = go.Layout(\n",
    "    xaxis=dict(\n",
    "        title='Z axis', \n",
    "        #range = [-6000, 0]\n",
    "    ),\n",
    "    yaxis=dict(\n",
    "        title='Escape probability weight',          \n",
    "        #range = [0, 0.0004]\n",
    "\n",
    "    ))\n",
    "\n",
    "figSandH = go.Figure(data=dataToPlot, layout=layout)\n",
    "py.iplot(figSandH)"
   ]
  },
  {
   "cell_type": "code",
   "execution_count": 87,
   "metadata": {
    "collapsed": false,
    "deletable": true,
    "editable": true
   },
   "outputs": [
    {
     "data": {
      "text/html": [
       "<iframe id=\"igraph\" scrolling=\"no\" style=\"border:none;\" seamless=\"seamless\" src=\"https://plot.ly/~elena.pascal/40.embed\" height=\"525px\" width=\"100%\"></iframe>"
      ],
      "text/plain": [
       "<plotly.tools.PlotlyDisplay object>"
      ]
     },
     "execution_count": 87,
     "metadata": {},
     "output_type": "execute_result"
    }
   ],
   "source": [
    "figDepth = ff.create_distplot([t_Isample_z], ['escaped electrons depth'], bin_size= 10 )\n",
    "py.iplot(figDepth, filename = 'Depth distribution of information' )"
   ]
  },
  {
   "cell_type": "code",
   "execution_count": 89,
   "metadata": {
    "collapsed": false,
    "deletable": true,
    "editable": true
   },
   "outputs": [
    {
     "data": {
      "text/html": [
       "<iframe id=\"igraph\" scrolling=\"no\" style=\"border:none;\" seamless=\"seamless\" src=\"https://plot.ly/~elena.pascal/34.embed\" height=\"525px\" width=\"100%\"></iframe>"
      ],
      "text/plain": [
       "<plotly.tools.PlotlyDisplay object>"
      ]
     },
     "execution_count": 89,
     "metadata": {},
     "output_type": "execute_result"
    }
   ],
   "source": [
    "figEnergy = ff.create_distplot([t_Isample_energy], ['escaped electrons energy'], bin_size= 0.01)\n",
    "py.iplot(figEnergy, filename = 'Energy distribution of information' )"
   ]
  },
  {
   "cell_type": "code",
   "execution_count": 90,
   "metadata": {
    "collapsed": false,
    "deletable": true,
    "editable": true
   },
   "outputs": [
    {
     "data": {
      "text/html": [
       "<iframe id=\"igraph\" scrolling=\"no\" style=\"border:none;\" seamless=\"seamless\" src=\"https://plot.ly/~elena.pascal/290.embed\" height=\"525px\" width=\"100%\"></iframe>"
      ],
      "text/plain": [
       "<plotly.tools.PlotlyDisplay object>"
      ]
     },
     "execution_count": 90,
     "metadata": {},
     "output_type": "execute_result"
    }
   ],
   "source": [
    "N = 400 # point to sample on a mesh for the KDE\n",
    "bw = 0.2 # bandwidth\n",
    "KDEdata = make_kdedata(t_Isample_x, t_Isample_z, (x1, x2), (y1, y2), N, bw, purples)\n",
    "\n",
    "layoutKDE =  go.Layout(xaxis = dict(title = 'X axis (nm)'), \n",
    "                    yaxis = dict(title = 'Z axis (nm)'),\n",
    "                    title = 'Non-uniformly sampled KDE')\n",
    "figureKDE = go.Figure(data=KDEdata, layout= layoutKDE)\n",
    "\n",
    "py.iplot(figureKDE)"
   ]
  },
  {
   "cell_type": "code",
   "execution_count": null,
   "metadata": {
    "collapsed": true,
    "deletable": true,
    "editable": true
   },
   "outputs": [],
   "source": []
  }
 ],
 "metadata": {
  "kernelspec": {
   "display_name": "Python 2",
   "language": "python",
   "name": "python2"
  },
  "language_info": {
   "codemirror_mode": {
    "name": "ipython",
    "version": 2
   },
   "file_extension": ".py",
   "mimetype": "text/x-python",
   "name": "python",
   "nbconvert_exporter": "python",
   "pygments_lexer": "ipython2",
   "version": "2.7.12"
  }
 },
 "nbformat": 4,
 "nbformat_minor": 2
}
