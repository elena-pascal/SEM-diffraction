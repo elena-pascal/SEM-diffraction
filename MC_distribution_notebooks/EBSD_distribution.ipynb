{
 "cells": [
  {
   "cell_type": "markdown",
   "metadata": {
    "deletable": true,
    "editable": true
   },
   "source": [
    "This notebook reads the 'singlerun.txt' output file which contains elastic interactions positions and produces a number of distribution plots."
   ]
  },
  {
   "cell_type": "markdown",
   "metadata": {
    "deletable": true,
    "editable": true
   },
   "source": [
    "Let's import some libraries:"
   ]
  },
  {
   "cell_type": "code",
   "execution_count": 140,
   "metadata": {
    "collapsed": true,
    "deletable": true,
    "editable": true
   },
   "outputs": [],
   "source": [
    "import numpy as np                     # the usual numpy"
   ]
  },
  {
   "cell_type": "code",
   "execution_count": 141,
   "metadata": {
    "collapsed": false,
    "deletable": true,
    "editable": true
   },
   "outputs": [],
   "source": [
    "import plotly.offline as offline       # a number of plotly goodies\n",
    "import plotly.plotly as py\n",
    "import plotly.graph_objs as go\n",
    "import plotly.figure_factory as ff"
   ]
  },
  {
   "cell_type": "code",
   "execution_count": 142,
   "metadata": {
    "collapsed": true,
    "deletable": true,
    "editable": true
   },
   "outputs": [],
   "source": [
    "import matplotlib as mlab\n",
    "import matplotlib.pyplot as plt        # some matplotlib for good measure\n",
    "from matplotlib.colors import LogNorm"
   ]
  },
  {
   "cell_type": "code",
   "execution_count": 143,
   "metadata": {
    "collapsed": true,
    "deletable": true,
    "editable": true
   },
   "outputs": [],
   "source": [
    "import scipy.stats as st               # and scipy in case everything else fails\n",
    "from scipy import interpolate\n",
    "from scipy.interpolate import griddata"
   ]
  },
  {
   "cell_type": "markdown",
   "metadata": {},
   "source": [
    "### Test the random number generator"
   ]
  },
  {
   "cell_type": "code",
   "execution_count": 144,
   "metadata": {
    "collapsed": true
   },
   "outputs": [],
   "source": [
    "randomnumber = 'outtestran.txt'"
   ]
  },
  {
   "cell_type": "code",
   "execution_count": 145,
   "metadata": {
    "collapsed": false
   },
   "outputs": [],
   "source": [
    "rNumber = []\n",
    "with open(randomnumber, \"r\") as data:\n",
    "    for line in data: #read one line at a time\n",
    "        data = line.split()\n",
    "        rNumber.append(float(data[0]))"
   ]
  },
  {
   "cell_type": "code",
   "execution_count": 146,
   "metadata": {
    "collapsed": false
   },
   "outputs": [],
   "source": [
    "bin1 = [i for i in rNumber if i <= 0.1]"
   ]
  },
  {
   "cell_type": "code",
   "execution_count": 147,
   "metadata": {
    "collapsed": false
   },
   "outputs": [
    {
     "data": {
      "text/html": [
       "<iframe id=\"igraph\" scrolling=\"no\" style=\"border:none;\" seamless=\"seamless\" src=\"https://plot.ly/~elena.pascal/360.embed\" height=\"525px\" width=\"100%\"></iframe>"
      ],
      "text/plain": [
       "<plotly.tools.PlotlyDisplay object>"
      ]
     },
     "execution_count": 147,
     "metadata": {},
     "output_type": "execute_result"
    }
   ],
   "source": [
    "traceH = go.Histogram(\n",
    "    x = rNumber,\n",
    "    name = 'Random number',\n",
    "    #histnorm = 'probability',\n",
    "    #autobinx = True,\n",
    "    xbins = dict(\n",
    "            start=0,\n",
    "            end=1,\n",
    "            size=0.01\n",
    "        ),\n",
    "    marker = dict(color='#2d1e3e'),\n",
    "    xaxis = 'x2'\n",
    ")\n",
    "\n",
    "fig = go.Figure(data=[traceH])\n",
    "\n",
    "py.iplot(fig, filename='random number')"
   ]
  },
  {
   "cell_type": "code",
   "execution_count": 148,
   "metadata": {
    "collapsed": false
   },
   "outputs": [],
   "source": [
    "firstStep = 'firstStep.dat'"
   ]
  },
  {
   "cell_type": "code",
   "execution_count": 149,
   "metadata": {
    "collapsed": false
   },
   "outputs": [
    {
     "ename": "IndexError",
     "evalue": "list index out of range",
     "output_type": "error",
     "traceback": [
      "\u001b[0;31m---------------------------------------------------------------------------\u001b[0m",
      "\u001b[0;31mIndexError\u001b[0m                                Traceback (most recent call last)",
      "\u001b[0;32m<ipython-input-149-00eeaf776638>\u001b[0m in \u001b[0;36m<module>\u001b[0;34m()\u001b[0m\n\u001b[1;32m      3\u001b[0m     \u001b[0;32mfor\u001b[0m \u001b[0mline\u001b[0m \u001b[0;32min\u001b[0m \u001b[0mdata\u001b[0m\u001b[0;34m:\u001b[0m \u001b[0;31m#read one line at a time\u001b[0m\u001b[0;34m\u001b[0m\u001b[0m\n\u001b[1;32m      4\u001b[0m         \u001b[0mdata\u001b[0m \u001b[0;34m=\u001b[0m \u001b[0mline\u001b[0m\u001b[0;34m.\u001b[0m\u001b[0msplit\u001b[0m\u001b[0;34m(\u001b[0m\u001b[0;34m)\u001b[0m\u001b[0;34m\u001b[0m\u001b[0m\n\u001b[0;32m----> 5\u001b[0;31m         \u001b[0mfirstStepdata\u001b[0m\u001b[0;34m.\u001b[0m\u001b[0mappend\u001b[0m\u001b[0;34m(\u001b[0m\u001b[0mfloat\u001b[0m\u001b[0;34m(\u001b[0m\u001b[0mdata\u001b[0m\u001b[0;34m[\u001b[0m\u001b[0;36m0\u001b[0m\u001b[0;34m]\u001b[0m\u001b[0;34m)\u001b[0m\u001b[0;34m)\u001b[0m\u001b[0;34m\u001b[0m\u001b[0m\n\u001b[0m",
      "\u001b[0;31mIndexError\u001b[0m: list index out of range"
     ]
    }
   ],
   "source": [
    "firstStepdata = []\n",
    "with open(firstStep, \"r\") as data:\n",
    "    for line in data: #read one line at a time\n",
    "        data = line.split()\n",
    "        firstStepdata.append(float(data[0]))"
   ]
  },
  {
   "cell_type": "code",
   "execution_count": null,
   "metadata": {
    "collapsed": false
   },
   "outputs": [],
   "source": [
    "traceH = go.Histogram(\n",
    "    x = firstStepdata,\n",
    "    name = 'Random number',\n",
    "    histnorm = 'probability',\n",
    "    autobinx = True,\n",
    "    #xbins = dict(\n",
    "    #        start=0,\n",
    "    #        end=1,\n",
    "    #        size=0.1\n",
    "    #    ),\n",
    "    marker = dict(color='#2d1e3e'),\n",
    "    xaxis = 'x2'\n",
    ")\n",
    "\n",
    "fig = go.Figure(data=[traceH])\n",
    "\n",
    "py.iplot(fig, filename='random number')"
   ]
  },
  {
   "cell_type": "code",
   "execution_count": null,
   "metadata": {
    "collapsed": true
   },
   "outputs": [],
   "source": []
  },
  {
   "cell_type": "markdown",
   "metadata": {
    "deletable": true,
    "editable": true
   },
   "source": [
    "Use the data file:"
   ]
  },
  {
   "cell_type": "code",
   "execution_count": 150,
   "metadata": {
    "collapsed": true,
    "deletable": true,
    "editable": true
   },
   "outputs": [],
   "source": [
    "fileName = 'singlerun.txt'"
   ]
  },
  {
   "cell_type": "markdown",
   "metadata": {
    "deletable": true,
    "editable": true
   },
   "source": [
    "Before we read the datafile and create lists of data we have to initialise a bunch of parameters:"
   ]
  },
  {
   "cell_type": "code",
   "execution_count": 207,
   "metadata": {
    "collapsed": true,
    "deletable": true,
    "editable": true
   },
   "outputs": [],
   "source": [
    "el = -1        #electon identifier\n",
    "step = 0       #step number\n",
    "energy = []    #energy array of electron el\n",
    "energy.append([])\n",
    "xyz = []       # xyz positions array for electron el\n",
    "xyz.append([])\n",
    "cxyz = []      # directional cosines array for electron el\n",
    "cxyz.append([])\n",
    "dEdS = []"
   ]
  },
  {
   "cell_type": "markdown",
   "metadata": {
    "deletable": true,
    "editable": true
   },
   "source": [
    "Read all file and store all xyz positions for each electron. one electron data is in between lines with first column containing \" 0: \""
   ]
  },
  {
   "cell_type": "code",
   "execution_count": 214,
   "metadata": {
    "collapsed": false,
    "deletable": true,
    "editable": true
   },
   "outputs": [],
   "source": [
    "with open(fileName, \"r\") as data:\n",
    "    for line in data: #read one line at a time\n",
    "        column = line.replace(':',' ').replace(',',' ').split()\n",
    "\n",
    "\n",
    "        if column[0] is '0': #reinitialise and update\n",
    "            energy.append([])\n",
    "            cxyz.append([])\n",
    "            xyz.append([])\n",
    "\n",
    "            el = el + 1\n",
    "\n",
    "        energy[el].append(float(column[1]))\n",
    "        cxyz[el].append([ float(column[2]), float(column[3]), float(column[4]) ])\n",
    "        xyz[el].append([ float(column[5]), float(column[6]), float(column[7]) ])\n",
    "        if len(column)>8:\n",
    "            dEdS.append(float(column[8]))\n"
   ]
  },
  {
   "cell_type": "markdown",
   "metadata": {
    "deletable": true,
    "editable": true
   },
   "source": [
    "Initialise the backscattered electrons sum:"
   ]
  },
  {
   "cell_type": "code",
   "execution_count": 153,
   "metadata": {
    "collapsed": true,
    "deletable": true,
    "editable": true
   },
   "outputs": [],
   "source": [
    "BSE2 = 0       # this is a type 2 signal"
   ]
  },
  {
   "cell_type": "markdown",
   "metadata": {
    "deletable": true,
    "editable": true
   },
   "source": [
    "Initialise more lists:"
   ]
  },
  {
   "cell_type": "code",
   "execution_count": 154,
   "metadata": {
    "collapsed": true,
    "deletable": true,
    "editable": true
   },
   "outputs": [],
   "source": [
    "b_energy = [] #energy array of backscattered electron el\n",
    "b_energy.append([])\n",
    "b_xyz = []    #xyz position array for backscattered electron el\n",
    "b_xyz.append([])\n",
    "b_cxyz = []   #directional cosines array for backscattered electron el\n",
    "b_cxyz.append([])\n"
   ]
  },
  {
   "cell_type": "code",
   "execution_count": 155,
   "metadata": {
    "collapsed": false,
    "deletable": true,
    "editable": true
   },
   "outputs": [],
   "source": [
    "for i in range(el+1):\n",
    "\n",
    "    zs = [positions[2] for positions in xyz[i] ] # z values\n",
    "\n",
    "    if any( z > 0 for z in zs): #backattered\n",
    "        b_energy[BSE2] = energy[i]\n",
    "        b_cxyz[BSE2] = cxyz[i]\n",
    "        b_xyz[BSE2] = xyz[i]\n",
    "\n",
    "        BSE2 = BSE2 + 1\n",
    "        b_energy.append([])\n",
    "        b_xyz.append([])\n",
    "        b_cxyz.append([])\n"
   ]
  },
  {
   "cell_type": "markdown",
   "metadata": {
    "deletable": true,
    "editable": true
   },
   "source": [
    "The number of backscattered electrons is:"
   ]
  },
  {
   "cell_type": "code",
   "execution_count": 156,
   "metadata": {
    "collapsed": false,
    "deletable": true,
    "editable": true
   },
   "outputs": [
    {
     "data": {
      "text/plain": [
       "5217"
      ]
     },
     "execution_count": 156,
     "metadata": {},
     "output_type": "execute_result"
    }
   ],
   "source": [
    "BSE2"
   ]
  },
  {
   "cell_type": "markdown",
   "metadata": {
    "deletable": true,
    "editable": true
   },
   "source": [
    "Which is hard to work with so I'm making every parameter a long array."
   ]
  },
  {
   "cell_type": "code",
   "execution_count": 157,
   "metadata": {
    "collapsed": false,
    "deletable": true,
    "editable": true
   },
   "outputs": [
    {
     "name": "stdout",
     "output_type": "stream",
     "text": [
      "[ -3.3485  -2.2689  -3.9191 ..., -18.898   -3.8851  -5.6495]\n",
      "[]\n",
      "[]\n"
     ]
    }
   ],
   "source": [
    "b_xs = [] # list of basckattered electrons x positions\n",
    "b_zs = []\n",
    "\n",
    "for traj in b_xyz:\n",
    "    for event in traj:\n",
    "        b_xs.append(event[0])\n",
    "        b_zs.append(event[2])\n",
    "\n",
    "        \n",
    "b_czs = [] # list of directional cosines \n",
    "for traj in b_cxyz:\n",
    "    for event in traj:\n",
    "        b_czs.append(event[2])\n",
    "    \n",
    "    \n",
    "b_energy_ar = np.array([item for sublist in b_energy for item in sublist])\n",
    "b_xs_ar = np.array(b_xs)\n",
    "b_zs_ar = np.array(b_zs)\n",
    "b_czs_ar = np.array(b_czs)\n",
    "\n",
    "# Remove z values > 0 \n",
    "inside_indxs = np.where(b_zs_ar<0)\n",
    "outside_indxs = np.where(b_zs_ar>0)\n",
    "last_indxs = outside_indxs[0] - 1\n",
    "b_xs_ar_in = b_xs_ar[inside_indxs]\n",
    "b_zs_ar_in = b_zs_ar[inside_indxs]\n",
    "b_energy_ar_in = b_energy_ar[inside_indxs]\n",
    "b_czs_ar_in = b_czs_ar[inside_indxs]\n",
    "\n",
    "b_lastzs_ar = b_zs_ar[last_indxs]\n",
    "b_lastczs_ar = b_czs_ar[last_indxs]\n",
    "b_lastenergy_ar =  b_energy_ar[last_indxs]\n",
    "\n",
    "print b_lastzs_ar[:]\n",
    "print b_lastczs_ar[b_lastzs_ar<-800]\n",
    "print b_lastenergy_ar[b_lastzs_ar<-800]"
   ]
  },
  {
   "cell_type": "markdown",
   "metadata": {
    "deletable": true,
    "editable": true
   },
   "source": [
    "Let us inquire about the energy lost from the last elastic event to exit"
   ]
  },
  {
   "cell_type": "markdown",
   "metadata": {},
   "source": [
    "### Last elastic events"
   ]
  },
  {
   "cell_type": "code",
   "execution_count": 158,
   "metadata": {
    "collapsed": false,
    "deletable": true,
    "editable": true
   },
   "outputs": [
    {
     "data": {
      "text/html": [
       "<iframe id=\"igraph\" scrolling=\"no\" style=\"border:none;\" seamless=\"seamless\" src=\"https://plot.ly/~elena.pascal/342.embed\" height=\"525px\" width=\"100%\"></iframe>"
      ],
      "text/plain": [
       "<plotly.tools.PlotlyDisplay object>"
      ]
     },
     "execution_count": 158,
     "metadata": {},
     "output_type": "execute_result"
    }
   ],
   "source": [
    "last_d = np.abs(b_lastzs_ar[b_lastczs_ar>0.3]/b_lastczs_ar[b_lastczs_ar>0.3])\n",
    "\n",
    "traceScatter = go.Scatter(\n",
    "    x = b_lastenergy_ar[b_lastczs_ar>0.3],\n",
    "    #y = last_d,\n",
    "    y = b_lastzs_ar[b_lastczs_ar>0.3],\n",
    "    mode = 'markers',\n",
    "    name = 'events',\n",
    "    marker = dict(\n",
    "        color='#2d1e3e',\n",
    "        size = 6,\n",
    "        #size = weight_escape_b[:1000]*0.1,\n",
    "        opacity=0.4\n",
    "    )\n",
    ")\n",
    "\n",
    "\n",
    "data = [traceScatter]\n",
    "\n",
    "layout = go.Layout(\n",
    "    xaxis=dict(\n",
    "        title='Energy (keV)'\n",
    "    ),\n",
    "    yaxis=dict(\n",
    "        title='exit distance (A)'\n",
    "    ))\n",
    "\n",
    "\n",
    "fig = go.Figure(data=data, layout=layout)\n",
    "\n",
    "py.iplot(fig, filename='last event')"
   ]
  },
  {
   "cell_type": "code",
   "execution_count": null,
   "metadata": {
    "collapsed": true,
    "deletable": true,
    "editable": true
   },
   "outputs": [],
   "source": []
  },
  {
   "cell_type": "markdown",
   "metadata": {
    "deletable": true,
    "editable": true
   },
   "source": [
    "elena's purple colors:"
   ]
  },
  {
   "cell_type": "code",
   "execution_count": 159,
   "metadata": {
    "collapsed": true,
    "deletable": true,
    "editable": true
   },
   "outputs": [],
   "source": [
    "purples=[[0.0,   '#fcf9f7'],\n",
    " [0.1666666666666666, '#edcfc9'],\n",
    " [0.3333333333333333, '#daa2ac'],\n",
    " [0.5,                '#bc7897'],\n",
    " [0.6666666666666666, '#925684'],\n",
    " [0.8333333333333333, '#5f3868'],\n",
    " [1.0,                '#2d1e3e']]"
   ]
  },
  {
   "cell_type": "markdown",
   "metadata": {
    "deletable": true,
    "editable": true
   },
   "source": [
    "### Decide how big an image:###"
   ]
  },
  {
   "cell_type": "code",
   "execution_count": 180,
   "metadata": {
    "collapsed": true,
    "deletable": true,
    "editable": true
   },
   "outputs": [],
   "source": [
    "x1, x2 = (10, 20)\n",
    "y1, y2 = (-50, 0)"
   ]
  },
  {
   "cell_type": "markdown",
   "metadata": {
    "deletable": true,
    "editable": true
   },
   "source": [
    "### Define a 2D KDE function to show a heat map ###"
   ]
  },
  {
   "cell_type": "code",
   "execution_count": 181,
   "metadata": {
    "collapsed": true,
    "deletable": true,
    "editable": true
   },
   "outputs": [],
   "source": [
    "def kde_scipy( vals1, vals2, (a,b), (c,d), N, bw ):\n",
    "\n",
    "    #vals1, vals2 are the values of two variables (columns)\n",
    "    #(a,b) interval for vals1; usually larger than (np.min(vals1), np.max(vals1))\n",
    "    #(c,d) -\"-          vals2\n",
    "\n",
    "    x = np.linspace(a,b,N)\n",
    "    y = np.linspace(c,d,N)\n",
    "    X,Y = np.meshgrid(x,y)\n",
    "    positions = np.vstack([Y.ravel(), X.ravel()])\n",
    "\n",
    "    values = np.vstack([vals1, vals2])\n",
    "    kernel = st.gaussian_kde(values, bw_method = bw)\n",
    "    Z = np.reshape(kernel(positions).T, X.shape)\n",
    "\n",
    "    return [x, y, Z]\n",
    "\n",
    "\n",
    "def make_kdedata(varX, varY, (a,b), (c,d), N, bw, colorsc):\n",
    "    #varX, varY are lists, 1d numpy.array(s), or dataframe columns, storing the values of two variables\n",
    "\n",
    "    x, y, Z = kde_scipy(varY, varX, (a,b), (c,d), N, bw )\n",
    "\n",
    "    data = go.Data([\n",
    "       go.Contour(\n",
    "           z=Z,\n",
    "           x=x,\n",
    "           y=y,\n",
    "           colorscale=colorsc,\n",
    "           #reversescale=True,\n",
    "           opacity=0.9,\n",
    "           contours=go.Contours(\n",
    "               showlines=False)\n",
    "        ),\n",
    "     ])\n",
    "    \n",
    "    return data"
   ]
  },
  {
   "cell_type": "code",
   "execution_count": 201,
   "metadata": {
    "collapsed": false,
    "deletable": true,
    "editable": true
   },
   "outputs": [
    {
     "data": {
      "text/html": [
       "<iframe id=\"igraph\" scrolling=\"no\" style=\"border:none;\" seamless=\"seamless\" src=\"https://plot.ly/~elena.pascal/397.embed\" height=\"525px\" width=\"100%\"></iframe>"
      ],
      "text/plain": [
       "<plotly.tools.PlotlyDisplay object>"
      ]
     },
     "execution_count": 201,
     "metadata": {},
     "output_type": "execute_result"
    }
   ],
   "source": [
    "x1E, x2E = (10, 20)\n",
    "y1E, y2E = (-50, 0)\n",
    "N = 200 # point to sample on a mesh for the KDE\n",
    "bw = 0.3 # bandwidth\n",
    "KDEdata = make_kdedata(b_lastenergy_ar[b_lastczs_ar>0.0], b_lastzs_ar[b_lastczs_ar>0.0], (x1, x2), (y1, y2), N, bw, purples)\n",
    "\n",
    "layoutKDE =  go.Layout(xaxis = dict(title = 'Energy (keV)'), \n",
    "                    yaxis = dict(title = 'exit Z (nm)'),\n",
    "                    title = 'Uniformly sampled KDE')\n",
    "figureKDE = go.Figure(data=KDEdata, layout= layoutKDE)\n",
    "\n",
    "py.iplot(figureKDE)"
   ]
  },
  {
   "cell_type": "code",
   "execution_count": 202,
   "metadata": {
    "collapsed": false,
    "deletable": true,
    "editable": true
   },
   "outputs": [
    {
     "data": {
      "image/png": "[encoded data removed]",
      "text/plain": [
       "<matplotlib.figure.Figure at 0x7fc3aff89c50>"
      ]
     },
     "metadata": {},
     "output_type": "display_data"
    }
   ],
   "source": [
    "xKDE, yKDE, ZKDE = kde_scipy(b_lastzs_ar[b_lastczs_ar>0.0],b_lastenergy_ar[b_lastczs_ar>0.0], (x1,x2), (y1,y2), N, bw )\n",
    "ZKDE = ZKDE / ZKDE.sum()\n",
    "\n",
    "n = 100\n",
    "t = np.linspace(0, ZKDE.max(), n)\n",
    "integral = ((ZKDE >= t[:, None, None]) * ZKDE).sum(axis=(1,2))\n",
    "\n",
    "\n",
    "f = interpolate.interp1d(integral, t)\n",
    "t_contours = f(np.array([0.9, 0.8, 0.7, 0.6, 0.5, 0.4, 0.3, 0.2, 0.1]))\n",
    "plt.imshow(ZKDE, origin='lower', extent=[x1, x2, y1, y2], cmap=\"BuPu\", aspect='auto')\n",
    "CS = plt.contour(ZKDE, t_contours, extent=[x1, x2, y1, y2])\n",
    "\n",
    "labels = ['90%', '80%','70%','60%', '50%', '40%', '30%', '20%', '10%']\n",
    "for i in range(len(labels)):\n",
    "    CS.collections[i].set_label(labels[i])\n",
    "plt.legend(bbox_to_anchor=(1.2, 1.))\n",
    "plt.show()"
   ]
  },
  {
   "cell_type": "markdown",
   "metadata": {
    "collapsed": false,
    "deletable": true,
    "editable": true
   },
   "source": [
    "##### This looks a lot like figure 7b in Patrick's paper"
   ]
  },
  {
   "cell_type": "markdown",
   "metadata": {
    "collapsed": true
   },
   "source": [
    "#### Next choose only last elastic angles greater than 60 degrees (acos(0.5)) -- electron existing with at least a grazing angle of 10 degrees after the first incidence"
   ]
  },
  {
   "cell_type": "code",
   "execution_count": 205,
   "metadata": {
    "collapsed": false
   },
   "outputs": [
    {
     "data": {
      "image/png": "[encoded data removed]",
      "text/plain": [
       "<matplotlib.figure.Figure at 0x7fc3afb88910>"
      ]
     },
     "metadata": {},
     "output_type": "display_data"
    }
   ],
   "source": [
    "xKDE, yKDE, ZKDE = kde_scipy(b_lastzs_ar[b_lastczs_ar<0.5],b_lastenergy_ar[b_lastczs_ar<0.5], (x1,x2), (y1,y2), N, bw )\n",
    "ZKDE = ZKDE / ZKDE.sum()\n",
    "\n",
    "n = 200\n",
    "t = np.linspace(0, ZKDE.max(), n)\n",
    "integral = ((ZKDE >= t[:, None, None]) * ZKDE).sum(axis=(1,2))\n",
    "\n",
    "\n",
    "f = interpolate.interp1d(integral, t)\n",
    "t_contours = f(np.array([0.9, 0.8, 0.7, 0.6, 0.5, 0.4, 0.3, 0.2, 0.1]))\n",
    "plt.imshow(ZKDE, origin='lower', extent=[x1, x2, y1, y2], cmap=\"BuPu\", aspect='auto')\n",
    "CS = plt.contour(ZKDE, t_contours, extent=[x1, x2, y1, y2])\n",
    "\n",
    "labels = ['90%', '80%','70%','60%', '50%', '40%', '30%', '20%', '10%']\n",
    "for i in range(len(labels)):\n",
    "    CS.collections[i].set_label(labels[i])\n",
    "plt.legend(bbox_to_anchor=(1.2, 1.))\n",
    "plt.show()"
   ]
  },
  {
   "cell_type": "markdown",
   "metadata": {},
   "source": [
    "More likely for higher energy electrons to exit through a large angle scattering."
   ]
  },
  {
   "cell_type": "markdown",
   "metadata": {
    "deletable": true,
    "editable": true
   },
   "source": [
    "If data is too large of an array we'll do some sampling."
   ]
  },
  {
   "cell_type": "markdown",
   "metadata": {},
   "source": [
    "### For the next magic trick let us look at the stopping power of the electrons on their way out "
   ]
  },
  {
   "cell_type": "markdown",
   "metadata": {},
   "source": [
    "#### How much energy did the electrons loose since the incoherent event until they reach the detector"
   ]
  },
  {
   "cell_type": "code",
   "execution_count": null,
   "metadata": {
    "collapsed": true
   },
   "outputs": [],
   "source": []
  },
  {
   "cell_type": "code",
   "execution_count": null,
   "metadata": {
    "collapsed": true
   },
   "outputs": [],
   "source": []
  },
  {
   "cell_type": "markdown",
   "metadata": {
    "collapsed": false,
    "deletable": true,
    "editable": true
   },
   "source": [
    "#### Function to sample $n$ points with probabilities $p$ from a large array $a$:"
   ]
  },
  {
   "cell_type": "code",
   "execution_count": 215,
   "metadata": {
    "collapsed": false,
    "deletable": true,
    "editable": true
   },
   "outputs": [],
   "source": [
    "\n",
    "def uniform_sample(nu, au):\n",
    "    # numpy.random.choice(a, size=None, replace=True, p=None)\n",
    "    return np.random.choice(au, size=nu, replace=True)\n",
    "\n",
    "\n",
    "\n",
    "def nonuniform_sample(nn, an, p):\n",
    "    return np.random.choice(an, size=nn, replace=True, p=p)\n",
    "\n"
   ]
  },
  {
   "cell_type": "markdown",
   "metadata": {
    "deletable": true,
    "editable": true
   },
   "source": [
    "### Make a scatter plot ###"
   ]
  },
  {
   "cell_type": "markdown",
   "metadata": {
    "deletable": true,
    "editable": true
   },
   "source": [
    "Let's only sample 5000 points for fast plotting"
   ]
  },
  {
   "cell_type": "code",
   "execution_count": 216,
   "metadata": {
    "collapsed": false,
    "deletable": true,
    "editable": true
   },
   "outputs": [
    {
     "name": "stdout",
     "output_type": "stream",
     "text": [
      "446415\n"
     ]
    }
   ],
   "source": [
    "num = 5000\n",
    "# sample from the indexes\n",
    "sample_idxs = uniform_sample(num,len(b_xs_ar))\n",
    "\n",
    "b_sample_xs = b_xs_ar[sample_idxs]\n",
    "b_sample_zs = b_zs_ar[sample_idxs]\n",
    "b_sample_energy = b_energy_ar[sample_idxs]\n",
    "print len(b_xs_ar)"
   ]
  },
  {
   "cell_type": "code",
   "execution_count": 232,
   "metadata": {
    "collapsed": false,
    "deletable": true,
    "editable": true
   },
   "outputs": [],
   "source": [
    "x1, x2 = (-20, 3000)\n",
    "y1, y2 = (-1000, 0)\n",
    "\n",
    "traceScatter = go.Scatter(\n",
    "    x = b_sample_xs,\n",
    "    y = b_sample_zs,\n",
    "    mode = 'markers',\n",
    "    name = 'events',\n",
    "    marker = dict(\n",
    "        color='#2d1e3e',\n",
    "        size = 4,\n",
    "        #size = weight_escape_b[:1000]*0.1,\n",
    "        opacity=0.4\n",
    "    )\n",
    ")"
   ]
  },
  {
   "cell_type": "markdown",
   "metadata": {
    "deletable": true,
    "editable": true
   },
   "source": [
    "### Histogram of probabilities of finding an electron at depth z which will plot on the right hand side of the image"
   ]
  },
  {
   "cell_type": "code",
   "execution_count": 233,
   "metadata": {
    "collapsed": false,
    "deletable": true,
    "editable": true
   },
   "outputs": [],
   "source": [
    "traceHside = go.Histogram(\n",
    "    y = b_sample_zs,\n",
    "    name = 'z density',\n",
    "    histnorm = 'probability',\n",
    "    autobinx = True,\n",
    "    #ybins = dict(\n",
    "    #        start=zmax,\n",
    "    #        end=0,\n",
    "    #        size=50\n",
    "    #    ),\n",
    "    marker = dict(color='#2d1e3e'),\n",
    "    xaxis = 'x2'\n",
    ")\n"
   ]
  },
  {
   "cell_type": "markdown",
   "metadata": {
    "deletable": true,
    "editable": true
   },
   "source": [
    "### Build Layout ###"
   ]
  },
  {
   "cell_type": "code",
   "execution_count": 234,
   "metadata": {
    "collapsed": false,
    "deletable": true,
    "editable": true
   },
   "outputs": [],
   "source": [
    "\n",
    "\n",
    "layoutSandH = go.Layout(\n",
    "    showlegend=False,\n",
    "    autosize=False,\n",
    "    width=880,\n",
    "    height=650,\n",
    "\n",
    "    xaxis=dict(go.XAxis(range=[x1, x2]),\n",
    "               domain=[0, 0.81],\n",
    "               nticks=5,\n",
    "               showgrid=False,\n",
    "               zeroline=False,\n",
    "               title='x Axis (nm)',\n",
    "               titlefont=dict(\n",
    "               family='Courier New, monospace',\n",
    "               size=20,\n",
    "               color='#7f7f7f')\n",
    "        ),\n",
    "    yaxis=dict(go.YAxis(range=[y1,y2]),\n",
    "               domain=[0, 1],\n",
    "               nticks=5,\n",
    "               showgrid=False,\n",
    "               zeroline=False,\n",
    "               title='z Axis (nm)',\n",
    "               titlefont=dict(\n",
    "               family='Courier New, monospace',\n",
    "               size=20,\n",
    "               color='#7f7f7f')\n",
    "    ),\n",
    "\n",
    "    margin=dict(\n",
    "             t=50\n",
    "    ),\n",
    "\n",
    "    hovermode='closest',\n",
    "    bargap=0,\n",
    "    xaxis2=dict(\n",
    "        domain=[0.85, 1],\n",
    "        showgrid=False,\n",
    "        zeroline=False\n",
    "    ),\n",
    "    #title='Elastic events scatter plot',\n",
    "    #paper_bgcolor='rgba(0,0,0,0)',\n",
    "    #plot_bgcolor='rgba(0,0,0,0)'\n",
    ")"
   ]
  },
  {
   "cell_type": "code",
   "execution_count": 235,
   "metadata": {
    "collapsed": true,
    "deletable": true,
    "editable": true
   },
   "outputs": [],
   "source": [
    "dataToPlot = [ traceScatter, traceHside]\n",
    "figSandH = go.Figure(data=dataToPlot, layout=layoutSandH)"
   ]
  },
  {
   "cell_type": "markdown",
   "metadata": {
    "deletable": true,
    "editable": true
   },
   "source": [
    "And  plot:"
   ]
  },
  {
   "cell_type": "code",
   "execution_count": 236,
   "metadata": {
    "collapsed": false,
    "deletable": true,
    "editable": true
   },
   "outputs": [
    {
     "data": {
      "text/html": [
       "<iframe id=\"igraph\" scrolling=\"no\" style=\"border:none;\" seamless=\"seamless\" src=\"https://plot.ly/~elena.pascal/405.embed\" height=\"650px\" width=\"880px\"></iframe>"
      ],
      "text/plain": [
       "<plotly.tools.PlotlyDisplay object>"
      ]
     },
     "execution_count": 236,
     "metadata": {},
     "output_type": "execute_result"
    }
   ],
   "source": [
    "py.iplot(figSandH)"
   ]
  },
  {
   "cell_type": "markdown",
   "metadata": {
    "deletable": true,
    "editable": true
   },
   "source": [
    "A closer look at the depth density histogram:"
   ]
  },
  {
   "cell_type": "code",
   "execution_count": 237,
   "metadata": {
    "collapsed": false,
    "deletable": true,
    "editable": true
   },
   "outputs": [
    {
     "data": {
      "text/html": [
       "<iframe id=\"igraph\" scrolling=\"no\" style=\"border:none;\" seamless=\"seamless\" src=\"https://plot.ly/~elena.pascal/44.embed\" height=\"525px\" width=\"100%\"></iframe>"
      ],
      "text/plain": [
       "<plotly.tools.PlotlyDisplay object>"
      ]
     },
     "execution_count": 237,
     "metadata": {},
     "output_type": "execute_result"
    }
   ],
   "source": [
    "figDepth = ff.create_distplot([ b_sample_zs], ['depth density'],  bin_size=200 )\n",
    "py.iplot(figDepth, filename = 'Backscattered electrons Depth Distribution Unweighted' )\n"
   ]
  },
  {
   "cell_type": "markdown",
   "metadata": {
    "deletable": true,
    "editable": true
   },
   "source": [
    "And KDE plot:"
   ]
  },
  {
   "cell_type": "code",
   "execution_count": 238,
   "metadata": {
    "collapsed": false,
    "deletable": true,
    "editable": true
   },
   "outputs": [
    {
     "data": {
      "text/html": [
       "<iframe id=\"igraph\" scrolling=\"no\" style=\"border:none;\" seamless=\"seamless\" src=\"https://plot.ly/~elena.pascal/408.embed\" height=\"525px\" width=\"100%\"></iframe>"
      ],
      "text/plain": [
       "<plotly.tools.PlotlyDisplay object>"
      ]
     },
     "execution_count": 238,
     "metadata": {},
     "output_type": "execute_result"
    }
   ],
   "source": [
    "N = 200 # point to sample on a mesh for the KDE\n",
    "bw = 0.2 # bandwidth\n",
    "KDEdata = make_kdedata(b_sample_xs, b_sample_zs, (x1, x2), (y1, y2), N, bw, purples)\n",
    "\n",
    "layoutKDE =  go.Layout(xaxis = dict(title = 'X axis (nm)'), \n",
    "                    yaxis = dict(title = 'Z axis (nm)'),\n",
    "                    title = 'Uniformly sampled KDE')\n",
    "figureKDE = go.Figure(data=KDEdata, layout= layoutKDE)\n",
    "\n",
    "py.iplot(figureKDE)"
   ]
  },
  {
   "cell_type": "markdown",
   "metadata": {
    "deletable": true,
    "editable": true
   },
   "source": [
    "### Probabilistic sampling"
   ]
  },
  {
   "cell_type": "markdown",
   "metadata": {
    "deletable": true,
    "editable": true
   },
   "source": [
    "This is a representation of the spatial distribution predicted by Monte Carlo. If I want to sample this distribution I cannot use a uniform sampling grid, I ought to sample more from higher densities and less from lower densities. Such that a $RND = \\int_a ^x P(x)dx$ gives the value of x. Here P(x) can be numerically derived from the KDE.\n",
    "\n",
    "Below I'm showing contour plots for probabilities of finding an electron inside a given contour.\n",
    "The calculation of contour probabilities requires the computations of integrals inside the contour p(x) ≥ t."
   ]
  },
  {
   "cell_type": "code",
   "execution_count": 239,
   "metadata": {
    "collapsed": false,
    "deletable": true,
    "editable": true
   },
   "outputs": [
    {
     "data": {
      "image/png": "[encoded data removed]",
      "text/plain": [
       "<matplotlib.figure.Figure at 0x7fc3afcef410>"
      ]
     },
     "metadata": {},
     "output_type": "display_data"
    }
   ],
   "source": [
    "xKDE, yKDE, ZKDE = kde_scipy(b_sample_zs, b_sample_xs, (x1,x2), (y1,y2), N, bw )\n",
    "ZKDE = ZKDE / ZKDE.sum()\n",
    "\n",
    "n = 100\n",
    "t = np.linspace(0, ZKDE.max(), n)\n",
    "integral = ((ZKDE >= t[:, None, None]) * ZKDE).sum(axis=(1,2))\n",
    "\n",
    "\n",
    "\n",
    "f = interpolate.interp1d(integral, t)\n",
    "t_contours = f(np.array([0.9, 0.8, 0.7, 0.6, 0.5, 0.4, 0.3, 0.2, 0.1]))\n",
    "plt.imshow(ZKDE, origin='lower', extent=[x1, x2, y1, y2], cmap=\"gray\")\n",
    "CS = plt.contour(ZKDE, t_contours, extent=[x1, x2, y1, y2])\n",
    "\n",
    "labels = ['90%', '80%','70%','60%', '50%', '40%', '30%', '20%', '10%']\n",
    "for i in range(len(labels)):\n",
    "    CS.collections[i].set_label(labels[i])\n",
    "plt.legend(bbox_to_anchor=(1.1, 1.05))\n",
    "plt.show()"
   ]
  },
  {
   "cell_type": "code",
   "execution_count": 240,
   "metadata": {
    "collapsed": false,
    "deletable": true,
    "editable": true
   },
   "outputs": [],
   "source": [
    "xz_sample = np.array([(a,b) for a, b in zip(*(b_sample_xs, b_sample_zs))])\n",
    "inCont = np.zeros((9, num))\n",
    "\n",
    "for line in range(8):\n",
    "    p = CS.collections[line].get_paths()[0]\n",
    "    x = p.vertices[:,0]\n",
    "    z = p.vertices[:,1]\n",
    "    XZ = np.array([(a,b) for a, b in zip(*(x, z))])\n",
    "\n",
    "    contour = mlab.path.Path(XZ)\n",
    "    inCont[line] = contour.contains_points(xz_sample)\n",
    "    \n",
    "p_weights = [sum([yesno[point] for yesno in inCont]) for point in range(num)]"
   ]
  },
  {
   "cell_type": "code",
   "execution_count": 241,
   "metadata": {
    "collapsed": false,
    "deletable": true,
    "editable": true
   },
   "outputs": [],
   "source": [
    "sum_pweights = sum(p_weights)\n",
    "b_weight_p = p_weights/sum_pweights # normalise this array to probabilities\n",
    "\n",
    "n_p = 5000\n",
    "Psample_indxs = nonuniform_sample(n_p , len(b_sample_xs), b_weight_p)\n",
    "\n",
    "b_NUsample_x = b_sample_xs[Psample_indxs]\n",
    "b_NUsample_z = b_sample_zs[Psample_indxs]\n",
    "b_NUsample_energy = b_sample_energy[Psample_indxs]"
   ]
  },
  {
   "cell_type": "code",
   "execution_count": 242,
   "metadata": {
    "collapsed": false,
    "deletable": true,
    "editable": true
   },
   "outputs": [
    {
     "data": {
      "text/html": [
       "<iframe id=\"igraph\" scrolling=\"no\" style=\"border:none;\" seamless=\"seamless\" src=\"https://plot.ly/~elena.pascal/56.embed\" height=\"525px\" width=\"100%\"></iframe>"
      ],
      "text/plain": [
       "<plotly.tools.PlotlyDisplay object>"
      ]
     },
     "execution_count": 242,
     "metadata": {},
     "output_type": "execute_result"
    }
   ],
   "source": [
    "figDepth = ff.create_distplot([b_NUsample_z], ['depth probability of incoherent scattering'],  bin_size=100 )\n",
    "py.iplot(figDepth, filename = 'Frequency of incoherent scattering with depth' )"
   ]
  },
  {
   "cell_type": "code",
   "execution_count": 243,
   "metadata": {
    "collapsed": false,
    "deletable": true,
    "editable": true
   },
   "outputs": [
    {
     "data": {
      "text/html": [
       "<iframe id=\"igraph\" scrolling=\"no\" style=\"border:none;\" seamless=\"seamless\" src=\"https://plot.ly/~elena.pascal/410.embed\" height=\"650px\" width=\"880px\"></iframe>"
      ],
      "text/plain": [
       "<plotly.tools.PlotlyDisplay object>"
      ]
     },
     "execution_count": 243,
     "metadata": {},
     "output_type": "execute_result"
    }
   ],
   "source": [
    "\n",
    "traceScatter = go.Scatter(\n",
    "    x = b_NUsample_x,\n",
    "    y = b_NUsample_z,\n",
    "    mode = 'markers',\n",
    "    name = 'events',\n",
    "    marker = dict(\n",
    "        color='#2d1e3e',\n",
    "        size = 2,\n",
    "        #size = point_size*2.1,\n",
    "        opacity=0.4\n",
    "    )\n",
    ")\n",
    "\n",
    "traceHside = go.Histogram(\n",
    "    y=b_NUsample_z,\n",
    "    name = 'z density',\n",
    "    histnorm = 'probability',\n",
    "    autobinx = True,\n",
    "    #ybins = dict(\n",
    "    #        start=zmax,\n",
    "    #        end=0,\n",
    "    #        size=50\n",
    "    #    ),\n",
    "    marker = dict(color='#2d1e3e'),\n",
    "    xaxis = 'x2'\n",
    ")\n",
    "\n",
    "\n",
    "dataToPlot = [ traceScatter, traceHside]\n",
    "figSandH = go.Figure(data=dataToPlot, layout=layoutSandH)\n",
    "py.iplot(figSandH)"
   ]
  },
  {
   "cell_type": "code",
   "execution_count": 244,
   "metadata": {
    "collapsed": false,
    "deletable": true,
    "editable": true
   },
   "outputs": [
    {
     "data": {
      "text/html": [
       "<iframe id=\"igraph\" scrolling=\"no\" style=\"border:none;\" seamless=\"seamless\" src=\"https://plot.ly/~elena.pascal/412.embed\" height=\"525px\" width=\"100%\"></iframe>"
      ],
      "text/plain": [
       "<plotly.tools.PlotlyDisplay object>"
      ]
     },
     "execution_count": 244,
     "metadata": {},
     "output_type": "execute_result"
    }
   ],
   "source": [
    "N = 200 # point to sample on a mesh for the KDE\n",
    "bw = 0.2 # bandwidth\n",
    "KDEdata = make_kdedata(b_NUsample_x, b_NUsample_z, (x1, x2), (y1, y2), N, bw, purples)\n",
    "traceKDE = go.Figure(data=KDEdata)\n",
    "\n",
    "py.iplot(KDEdata)"
   ]
  },
  {
   "cell_type": "markdown",
   "metadata": {
    "deletable": true,
    "editable": true
   },
   "source": [
    "# Probability of incohernet scattering at a depth z"
   ]
  },
  {
   "cell_type": "markdown",
   "metadata": {
    "deletable": true,
    "editable": true
   },
   "source": [
    "### Weight events for how far the electron traveled before the event"
   ]
  },
  {
   "cell_type": "markdown",
   "metadata": {
    "deletable": true,
    "editable": true
   },
   "source": [
    "The probability of producing an incoherent scattering event ought to increase with the distance travelled in the material.\n",
    "\n",
    "To account for this I'm going to use the loss of energy until that event since the stopping power dictating the loss of energy is almost constant (i.e. independent on energy) in the energy range used in the SEM.\n",
    "\n",
    "[TODO] come back to check this or use actual distances\n",
    "\n",
    "Should also sample proportionally with energy to avoid outliers dominating."
   ]
  },
  {
   "cell_type": "code",
   "execution_count": 245,
   "metadata": {
    "collapsed": false,
    "deletable": true,
    "editable": true
   },
   "outputs": [],
   "source": [
    "#cut_off = 15.\n",
    "\n",
    "sum_Eweights = sum(b_NUsample_energy)\n",
    "b_weight_E = b_NUsample_energy/sum_Eweights # normalise this array to probabilities\n",
    "\n",
    "n_E = 5000\n",
    "Esample_indxs = nonuniform_sample(n_E , len(b_NUsample_x), b_weight_E)\n",
    "\n",
    "b_NUsampleE_x = b_NUsample_x[Psample_indxs]\n",
    "b_NUsampleE_z = b_NUsample_z[Psample_indxs]\n",
    "b_NUsampleE_energy = b_NUsample_energy[Psample_indxs]\n",
    "\n",
    "\n",
    "\n",
    "\n",
    "#b_NUsampleE_energy = b_NUsample_energy[np.where(b_NUsample_energy>cut_off)]\n",
    "#b_NUsampleE_x = b_NUsample_x[np.where(b_NUsample_energy>cut_off)]\n",
    "#b_NUsampleE_z = b_NUsample_z[np.where(b_NUsample_energy>cut_off)]\n",
    "\n"
   ]
  },
  {
   "cell_type": "code",
   "execution_count": 246,
   "metadata": {
    "collapsed": false,
    "deletable": true,
    "editable": true
   },
   "outputs": [
    {
     "data": {
      "text/html": [
       "<iframe id=\"igraph\" scrolling=\"no\" style=\"border:none;\" seamless=\"seamless\" src=\"https://plot.ly/~elena.pascal/52.embed\" height=\"525px\" width=\"100%\"></iframe>"
      ],
      "text/plain": [
       "<plotly.tools.PlotlyDisplay object>"
      ]
     },
     "execution_count": 246,
     "metadata": {},
     "output_type": "execute_result"
    }
   ],
   "source": [
    "DistanceHistogram = [go.Histogram(x=20.-b_NUsampleE_energy,\n",
    "                     histnorm='probability')]\n",
    "\n",
    "layout = go.Layout(\n",
    "    xaxis=dict(\n",
    "        title='energy lost (keV)'\n",
    "    ),\n",
    "    yaxis=dict(\n",
    "        title='Normalised frequency'\n",
    "    ))\n",
    "    \n",
    "fig = go.Figure(data=DistanceHistogram, layout=layout)\n",
    "py.iplot(fig, filename='normalized histogram')"
   ]
  },
  {
   "cell_type": "code",
   "execution_count": 247,
   "metadata": {
    "collapsed": false,
    "deletable": true,
    "editable": true
   },
   "outputs": [
    {
     "data": {
      "text/html": [
       "<iframe id=\"igraph\" scrolling=\"no\" style=\"border:none;\" seamless=\"seamless\" src=\"https://plot.ly/~elena.pascal/56.embed\" height=\"525px\" width=\"100%\"></iframe>"
      ],
      "text/plain": [
       "<plotly.tools.PlotlyDisplay object>"
      ]
     },
     "execution_count": 247,
     "metadata": {},
     "output_type": "execute_result"
    }
   ],
   "source": [
    "figDepth = ff.create_distplot([b_NUsampleE_z], ['depth probability of incoherent scattering'],  bin_size=100 )\n",
    "py.iplot(figDepth, filename = 'Frequency of incoherent scattering with depth' )"
   ]
  },
  {
   "cell_type": "markdown",
   "metadata": {
    "deletable": true,
    "editable": true
   },
   "source": [
    "Plot the distance traveled weighting"
   ]
  },
  {
   "cell_type": "code",
   "execution_count": 248,
   "metadata": {
    "collapsed": false,
    "deletable": true,
    "editable": true
   },
   "outputs": [
    {
     "data": {
      "text/html": [
       "<iframe id=\"igraph\" scrolling=\"no\" style=\"border:none;\" seamless=\"seamless\" src=\"https://plot.ly/~elena.pascal/54.embed\" height=\"525px\" width=\"100%\"></iframe>"
      ],
      "text/plain": [
       "<plotly.tools.PlotlyDisplay object>"
      ]
     },
     "execution_count": 248,
     "metadata": {},
     "output_type": "execute_result"
    }
   ],
   "source": [
    "trace = go.Scatter(\n",
    "    x = 20.-b_NUsampleE_energy,\n",
    "    y = (20.-b_NUsampleE_energy), \n",
    "    mode = 'line'\n",
    ")\n",
    "\n",
    "data = [trace]\n",
    "\n",
    "layout = go.Layout(\n",
    "    xaxis=dict(\n",
    "        title='distance traveled (a.u.)'\n",
    "    ),\n",
    "    yaxis=dict(\n",
    "        title='Weight value (a.u.)'\n",
    "    ))\n",
    "\n",
    "\n",
    "fig = go.Figure(data=data, layout=layout)\n",
    "\n",
    "py.iplot(fig, filename='distance weighting')"
   ]
  },
  {
   "cell_type": "markdown",
   "metadata": {
    "deletable": true,
    "editable": true
   },
   "source": [
    "I'm going to approximate the probability of incoherent scattering occuring at a depth z in the sample as the entire depth distribution of electrons weighted by a probability of incoherent scattering which to a first approximation is given by a linear dependence on how long did the electron traveled until that point. "
   ]
  },
  {
   "cell_type": "code",
   "execution_count": 249,
   "metadata": {
    "collapsed": false,
    "deletable": true,
    "editable": true
   },
   "outputs": [],
   "source": [
    "lost_energies = 20.-  np.array(b_NUsampleE_energy)\n",
    "sum_energies = sum(lost_energies)\n",
    "b_weight_z = lost_energies/ sum_energies # normalise this array to probabilities\n",
    "\n",
    "n = 6000\n",
    "Ssample_indxs = nonuniform_sample(n , len(b_NUsampleE_z), b_weight_z)\n",
    "\n",
    "b_Ssample_z = b_NUsampleE_z[Ssample_indxs]\n",
    "b_Ssample_x = b_NUsampleE_x[Ssample_indxs]\n",
    "b_Ssample_energy = b_NUsampleE_energy[Ssample_indxs]\n",
    "\n",
    "point_size = lost_energies[Ssample_indxs] # for scatter plot"
   ]
  },
  {
   "cell_type": "code",
   "execution_count": 250,
   "metadata": {
    "collapsed": false,
    "deletable": true,
    "editable": true
   },
   "outputs": [
    {
     "data": {
      "text/html": [
       "<iframe id=\"igraph\" scrolling=\"no\" style=\"border:none;\" seamless=\"seamless\" src=\"https://plot.ly/~elena.pascal/56.embed\" height=\"525px\" width=\"100%\"></iframe>"
      ],
      "text/plain": [
       "<plotly.tools.PlotlyDisplay object>"
      ]
     },
     "execution_count": 250,
     "metadata": {},
     "output_type": "execute_result"
    }
   ],
   "source": [
    "figDepth = ff.create_distplot([b_Ssample_z], ['depth probability of incoherent scattering'],  bin_size=100 )\n",
    "py.iplot(figDepth, filename = 'Frequency of incoherent scattering with depth' )"
   ]
  },
  {
   "cell_type": "code",
   "execution_count": 66,
   "metadata": {
    "collapsed": false,
    "deletable": true,
    "editable": true
   },
   "outputs": [
    {
     "data": {
      "text/html": [
       "<iframe id=\"igraph\" scrolling=\"no\" style=\"border:none;\" seamless=\"seamless\" src=\"https://plot.ly/~elena.pascal/336.embed\" height=\"650px\" width=\"880px\"></iframe>"
      ],
      "text/plain": [
       "<plotly.tools.PlotlyDisplay object>"
      ]
     },
     "execution_count": 66,
     "metadata": {},
     "output_type": "execute_result"
    }
   ],
   "source": [
    "traceScatter = go.Scatter(\n",
    "    x = b_Ssample_x,\n",
    "    y = b_Ssample_z,\n",
    "    mode = 'markers',\n",
    "    name = 'events',\n",
    "    marker = dict(\n",
    "        color='#2d1e3e',\n",
    "        #size = 2,\n",
    "        size = point_size*2.1,\n",
    "        opacity=0.4\n",
    "    )\n",
    ")\n",
    "\n",
    "traceHside = go.Histogram(\n",
    "    y=b_Ssample_z,\n",
    "    name = 'z density',\n",
    "    histnorm = 'probability',\n",
    "    autobinx = True,\n",
    "    #ybins = dict(\n",
    "    #        start=zmax,\n",
    "    #        end=0,\n",
    "    #        size=50\n",
    "    #    ),\n",
    "    marker = dict(color='#2d1e3e'),\n",
    "    xaxis = 'x2'\n",
    ")\n",
    "\n",
    "\n",
    "dataToPlot = [ traceScatter, traceHside]\n",
    "figSandH = go.Figure(data=dataToPlot, layout=layoutSandH)\n",
    "py.iplot(figSandH)"
   ]
  },
  {
   "cell_type": "code",
   "execution_count": 65,
   "metadata": {
    "collapsed": false,
    "deletable": true,
    "editable": true
   },
   "outputs": [
    {
     "data": {
      "text/html": [
       "<iframe id=\"igraph\" scrolling=\"no\" style=\"border:none;\" seamless=\"seamless\" src=\"https://plot.ly/~elena.pascal/334.embed\" height=\"525px\" width=\"100%\"></iframe>"
      ],
      "text/plain": [
       "<plotly.tools.PlotlyDisplay object>"
      ]
     },
     "execution_count": 65,
     "metadata": {},
     "output_type": "execute_result"
    }
   ],
   "source": [
    "N = 100\n",
    "bw = 0.4\n",
    "KDEdata = make_kdedata(b_Ssample_x, b_Ssample_z, (0, 20000), (-8000, 0), N, bw, purples)\n",
    "py.iplot(KDEdata)"
   ]
  },
  {
   "cell_type": "markdown",
   "metadata": {
    "deletable": true,
    "editable": true
   },
   "source": [
    "# Probability for an incoherent electron to reach the detector"
   ]
  },
  {
   "cell_type": "markdown",
   "metadata": {
    "deletable": true,
    "editable": true
   },
   "source": [
    "### Is given by how far from the exiting surface the event is\n",
    "##### This can also be seen as taking into account a possible mean free path for information conservation; i.e. how far is an incoherently scattered electron likely to travel before it looses diffraction information. I'm giving this an exponential form rather than linear, similarly to the form of the absorbed elctron wave in the Howie-Whelan equations."
   ]
  },
  {
   "cell_type": "markdown",
   "metadata": {
    "deletable": true,
    "editable": true
   },
   "source": [
    "$P(z) = exp(-z/zmax)$"
   ]
  },
  {
   "cell_type": "code",
   "execution_count": 251,
   "metadata": {
    "collapsed": false,
    "deletable": true,
    "editable": true
   },
   "outputs": [
    {
     "name": "stdout",
     "output_type": "stream",
     "text": [
      "389.14886\n"
     ]
    }
   ],
   "source": [
    "# let zmax be depth in which 90% of electrons are\n",
    "maxInfoDepth = np.percentile(-b_Ssample_z,80)\n",
    "print maxInfoDepth\n",
    "\n",
    "b_escape= np.exp(b_Ssample_z*2./maxInfoDepth)\n",
    "sum_escape = sum(b_escape)\n",
    "b_weight_escape = b_escape/ sum_escape # normalise this array to probabilities\n",
    "\n",
    "\n",
    "n = 5000\n",
    "Isample_indxs = nonuniform_sample(n, len(b_Ssample_z), b_weight_escape)\n",
    "\n",
    "b_Isample_z = b_Ssample_z[Isample_indxs]\n",
    "b_Isample_x = b_Ssample_x[Isample_indxs]\n",
    "b_Isample_energy = b_Ssample_energy[Isample_indxs]\n",
    "\n"
   ]
  },
  {
   "cell_type": "code",
   "execution_count": null,
   "metadata": {
    "collapsed": false,
    "deletable": true,
    "editable": true
   },
   "outputs": [],
   "source": []
  },
  {
   "cell_type": "code",
   "execution_count": 75,
   "metadata": {
    "collapsed": false,
    "deletable": true,
    "editable": true
   },
   "outputs": [
    {
     "data": {
      "text/html": [
       "<iframe id=\"igraph\" scrolling=\"no\" style=\"border:none;\" seamless=\"seamless\" src=\"https://plot.ly/~elena.pascal/38.embed\" height=\"525px\" width=\"100%\"></iframe>"
      ],
      "text/plain": [
       "<plotly.tools.PlotlyDisplay object>"
      ]
     },
     "execution_count": 75,
     "metadata": {},
     "output_type": "execute_result"
    }
   ],
   "source": [
    "trace = go.Scatter(\n",
    "    x = b_Isample_z,\n",
    "    y = b_weight_escape[Isample_indxs],  \n",
    "    mode = 'markers'\n",
    ")\n",
    "\n",
    "data = [trace]\n",
    "\n",
    "layout = go.Layout(\n",
    "    xaxis=dict(\n",
    "        title='Z axis', \n",
    "        #range = [-6000, 0]\n",
    "    ),\n",
    "    yaxis=dict(\n",
    "        title='Escape probability weight',          \n",
    "        #range = [0, 0.0004]\n",
    "\n",
    "    ))\n",
    "\n",
    "\n",
    "fig = go.Figure(data=data, layout=layout)\n",
    "\n",
    "py.iplot(fig, filename='escape chance weighting')"
   ]
  },
  {
   "cell_type": "code",
   "execution_count": 76,
   "metadata": {
    "collapsed": false,
    "deletable": true,
    "editable": true,
    "scrolled": true
   },
   "outputs": [
    {
     "data": {
      "text/html": [
       "<iframe id=\"igraph\" scrolling=\"no\" style=\"border:none;\" seamless=\"seamless\" src=\"https://plot.ly/~elena.pascal/40.embed\" height=\"525px\" width=\"100%\"></iframe>"
      ],
      "text/plain": [
       "<plotly.tools.PlotlyDisplay object>"
      ]
     },
     "execution_count": 76,
     "metadata": {},
     "output_type": "execute_result"
    }
   ],
   "source": [
    "figDepth = ff.create_distplot([b_Isample_z], ['escaped electrons depth'], bin_size= 100 )\n",
    "py.iplot(figDepth, filename = 'Depth distribution of information' )"
   ]
  },
  {
   "cell_type": "code",
   "execution_count": 78,
   "metadata": {
    "collapsed": false,
    "deletable": true,
    "editable": true
   },
   "outputs": [
    {
     "data": {
      "text/html": [
       "<iframe id=\"igraph\" scrolling=\"no\" style=\"border:none;\" seamless=\"seamless\" src=\"https://plot.ly/~elena.pascal/34.embed\" height=\"525px\" width=\"100%\"></iframe>"
      ],
      "text/plain": [
       "<plotly.tools.PlotlyDisplay object>"
      ]
     },
     "execution_count": 78,
     "metadata": {},
     "output_type": "execute_result"
    }
   ],
   "source": [
    "figEnergy = ff.create_distplot([b_Isample_energy], ['escaped electrons energy'], bin_size= 0.2)\n",
    "py.iplot(figEnergy, filename = 'Energy distribution of information' )\n"
   ]
  },
  {
   "cell_type": "code",
   "execution_count": 82,
   "metadata": {
    "collapsed": false,
    "deletable": true,
    "editable": true
   },
   "outputs": [
    {
     "data": {
      "text/html": [
       "<iframe id=\"igraph\" scrolling=\"no\" style=\"border:none;\" seamless=\"seamless\" src=\"https://plot.ly/~elena.pascal/214.embed\" height=\"525px\" width=\"100%\"></iframe>"
      ],
      "text/plain": [
       "<plotly.tools.PlotlyDisplay object>"
      ]
     },
     "execution_count": 82,
     "metadata": {},
     "output_type": "execute_result"
    }
   ],
   "source": [
    "N = 100\n",
    "bw = 0.4\n",
    "KDEdata = make_kdedata(b_Isample_x, b_Isample_z, (0, 20000), (-8000, 0), N, bw, purples)\n",
    "layoutKDE =  go.Layout(title = 'Information depth distribution')\n",
    "figure = go.Figure(data = KDEdata, layout = layoutKDE)\n",
    "py.iplot(figure, filename = 'information depth')"
   ]
  },
  {
   "cell_type": "code",
   "execution_count": 83,
   "metadata": {
    "collapsed": false,
    "deletable": true,
    "editable": true
   },
   "outputs": [
    {
     "data": {
      "text/html": [
       "<iframe id=\"igraph\" scrolling=\"no\" style=\"border:none;\" seamless=\"seamless\" src=\"https://plot.ly/~elena.pascal/216.embed\" height=\"525px\" width=\"100%\"></iframe>"
      ],
      "text/plain": [
       "<plotly.tools.PlotlyDisplay object>"
      ]
     },
     "execution_count": 83,
     "metadata": {},
     "output_type": "execute_result"
    }
   ],
   "source": [
    "trace = go.Scatter (x = b_Isample_energy, y = -b_Isample_z,mode = 'markers' )\n",
    "\n",
    "data = [trace]\n",
    "layout =  go.Layout(xaxis = dict(title = 'Energy (keV)'), \n",
    "                    yaxis = dict(title = 'Escape depth (nm)'),\n",
    "                    title = 'Exit distance versus energy')\n",
    "fig = go.Figure(data=data, layout = layout)\n",
    "py.iplot(fig, filename='exit distance versus energy')"
   ]
  },
  {
   "cell_type": "code",
   "execution_count": 84,
   "metadata": {
    "collapsed": false,
    "deletable": true,
    "editable": true
   },
   "outputs": [
    {
     "data": {
      "text/html": [
       "<iframe id=\"igraph\" scrolling=\"no\" style=\"border:none;\" seamless=\"seamless\" src=\"https://plot.ly/~elena.pascal/238.embed\" height=\"525px\" width=\"100%\"></iframe>"
      ],
      "text/plain": [
       "<plotly.tools.PlotlyDisplay object>"
      ]
     },
     "execution_count": 84,
     "metadata": {},
     "output_type": "execute_result"
    }
   ],
   "source": [
    "b_hist_E, b_bins_E = np.histogram(b_Isample_energy, bins = 5)\n",
    "\n",
    "\n",
    "b_bin_start = b_bins_E[-2]\n",
    "b_bin_end = b_bins_E[-1]\n",
    "b_ebin1_z = b_Isample_z[np.where((b_Isample_energy>=b_bin_start) & (b_Isample_energy<b_bin_end))]\n",
    "\n",
    "b_bin_start = b_bins_E[-3]\n",
    "b_bin_end = b_bins_E[-2]\n",
    "b_ebin2_z = b_Isample_z[np.where((b_Isample_energy>=b_bin_start) & (b_Isample_energy<b_bin_end))]\n",
    "\n",
    "b_bin_start = b_bins_E[-4]\n",
    "b_bin_end = b_bins_E[-3]\n",
    "b_ebin3_z = b_Isample_z[np.where((b_Isample_energy>=b_bin_start) & (b_Isample_energy<b_bin_end))]\n",
    "\n",
    "b_bin_start = b_bins_E[-5]\n",
    "b_bin_end = b_bins_E[-4]\n",
    "b_ebin4_z = b_Isample_z[np.where((b_Isample_energy>=b_bin_start) & (b_Isample_energy<b_bin_end))]\n",
    "\n",
    "b_bin_start = b_bins_E[-6]\n",
    "b_bin_end = b_bins_E[-5]\n",
    "b_ebin5_z = b_Isample_z[np.where((b_Isample_energy>=b_bin_start) & (b_Isample_energy<b_bin_end))]\n",
    "\n",
    "\n",
    "E1Histogram = go.Histogram(x=b_ebin1_z, histnorm = 'probability')\n",
    "E2Histogram = go.Histogram(x=b_ebin2_z, histnorm = 'probability')\n",
    "E3Histogram = go.Histogram(x=b_ebin3_z, histnorm = 'probability')\n",
    "E4Histogram = go.Histogram(x=b_ebin4_z, histnorm = 'probability')\n",
    "E5Histogram = go.Histogram(x=b_ebin5_z, histnorm = 'probability')\n",
    "\n",
    "layout = go.Layout(\n",
    "   # barmode = 'stack',\n",
    "    xaxis=dict(\n",
    "        title='depth range (nm)'\n",
    "    ),\n",
    "    yaxis=dict(\n",
    "        title='Normalised frequency'\n",
    "    ))\n",
    "\n",
    "data = [E1Histogram]\n",
    "fig = go.Figure(data=data, layout=layout)\n",
    "py.iplot(fig, filename='staked histogram')\n"
   ]
  },
  {
   "cell_type": "code",
   "execution_count": 85,
   "metadata": {
    "collapsed": false,
    "deletable": true,
    "editable": true
   },
   "outputs": [
    {
     "data": {
      "text/html": [
       "<iframe id=\"igraph\" scrolling=\"no\" style=\"border:none;\" seamless=\"seamless\" src=\"https://plot.ly/~elena.pascal/238.embed\" height=\"525px\" width=\"100%\"></iframe>"
      ],
      "text/plain": [
       "<plotly.tools.PlotlyDisplay object>"
      ]
     },
     "execution_count": 85,
     "metadata": {},
     "output_type": "execute_result"
    }
   ],
   "source": [
    "data = [E2Histogram]\n",
    "fig = go.Figure(data=data, layout=layout)\n",
    "py.iplot(fig, filename='staked histogram')"
   ]
  },
  {
   "cell_type": "code",
   "execution_count": 86,
   "metadata": {
    "collapsed": false,
    "deletable": true,
    "editable": true
   },
   "outputs": [
    {
     "data": {
      "text/html": [
       "<iframe id=\"igraph\" scrolling=\"no\" style=\"border:none;\" seamless=\"seamless\" src=\"https://plot.ly/~elena.pascal/238.embed\" height=\"525px\" width=\"100%\"></iframe>"
      ],
      "text/plain": [
       "<plotly.tools.PlotlyDisplay object>"
      ]
     },
     "execution_count": 86,
     "metadata": {},
     "output_type": "execute_result"
    }
   ],
   "source": [
    "data = [E3Histogram]\n",
    "fig = go.Figure(data=data, layout=layout)\n",
    "py.iplot(fig, filename='staked histogram')"
   ]
  },
  {
   "cell_type": "markdown",
   "metadata": {
    "deletable": true,
    "editable": true
   },
   "source": [
    "## --------------------------------Aside starts here--------------------------------------------------\n",
    "\n",
    "\n",
    "### What if we limit the energy of tracked electrons?"
   ]
  },
  {
   "cell_type": "markdown",
   "metadata": {
    "deletable": true,
    "editable": true
   },
   "source": [
    "#### Use autobinning histogram to define energy bins "
   ]
  },
  {
   "cell_type": "code",
   "execution_count": 39,
   "metadata": {
    "collapsed": false,
    "deletable": true,
    "editable": true
   },
   "outputs": [
    {
     "name": "stdout",
     "output_type": "stream",
     "text": [
      "20.0\n",
      "19.906103\n"
     ]
    }
   ],
   "source": [
    "hist_b, bins_b = np.histogram(b_energy_ar, bins = 100)\n",
    "b_bin_start = bins_b[-2]\n",
    "b_bin_end = bins_b[-1]\n",
    "\n",
    "print bins_b[-1]\n",
    "print bins_b[-2]"
   ]
  },
  {
   "cell_type": "markdown",
   "metadata": {
    "deletable": true,
    "editable": true
   },
   "source": [
    "#### Or define manualy energy bin ###"
   ]
  },
  {
   "cell_type": "code",
   "execution_count": 40,
   "metadata": {
    "collapsed": true,
    "deletable": true,
    "editable": true
   },
   "outputs": [],
   "source": [
    "#b_bin_start = 19.5\n",
    "#b_bin_end = 20"
   ]
  },
  {
   "cell_type": "markdown",
   "metadata": {
    "deletable": true,
    "editable": true
   },
   "source": [
    "Bin x, z, and energy of electrons with energy in bin defined above."
   ]
  },
  {
   "cell_type": "code",
   "execution_count": 41,
   "metadata": {
    "collapsed": false,
    "deletable": true,
    "editable": true
   },
   "outputs": [
    {
     "name": "stdout",
     "output_type": "stream",
     "text": [
      "8432\n"
     ]
    }
   ],
   "source": [
    "b_x_ebin_ar =      b_xs_ar[np.where((b_energy_ar>=b_bin_start) & (b_energy_ar<b_bin_end))]\n",
    "b_z_ebin_ar =      b_zs_ar[np.where((b_energy_ar>=b_bin_start) & (b_energy_ar<b_bin_end))]\n",
    "b_energy_ebin_ar = b_energy_ar[np.where((b_energy_ar>=b_bin_start) & (b_energy_ar<b_bin_end))]\n",
    "print len(b_x_ebin_ar)"
   ]
  },
  {
   "cell_type": "code",
   "execution_count": 42,
   "metadata": {
    "collapsed": false,
    "deletable": true,
    "editable": true
   },
   "outputs": [],
   "source": [
    "n=5000\n",
    "sample_indxs = uniform_sample(n, len(b_x_ebin_ar))\n",
    "\n",
    "b_Esample_xs = b_x_ebin_ar[sample_indxs]\n",
    "b_Esample_zs = b_z_ebin_ar[sample_indxs]\n",
    "b_Eample_energy = b_energy_ebin_ar[sample_indxs]"
   ]
  },
  {
   "cell_type": "code",
   "execution_count": 47,
   "metadata": {
    "collapsed": false,
    "deletable": true,
    "editable": true,
    "scrolled": true
   },
   "outputs": [
    {
     "data": {
      "text/html": [
       "<iframe id=\"igraph\" scrolling=\"no\" style=\"border:none;\" seamless=\"seamless\" src=\"https://plot.ly/~elena.pascal/302.embed\" height=\"525px\" width=\"100%\"></iframe>"
      ],
      "text/plain": [
       "<plotly.tools.PlotlyDisplay object>"
      ]
     },
     "execution_count": 47,
     "metadata": {},
     "output_type": "execute_result"
    }
   ],
   "source": [
    "N = 400 # need a finer grid since the features are smaller\n",
    "bw = 0.3\n",
    "KDEdata = make_kdedata(b_x_ebin_ar, b_z_ebin_ar, (0, 20000), (-800, 0), N, bw, purples)\n",
    "traceKDE = go.Figure(data=KDEdata)\n",
    "py.iplot(KDEdata)"
   ]
  },
  {
   "cell_type": "markdown",
   "metadata": {
    "deletable": true,
    "editable": true
   },
   "source": [
    "Show me the survival function of electrons with at least energy Ei."
   ]
  },
  {
   "cell_type": "code",
   "execution_count": 48,
   "metadata": {
    "collapsed": false,
    "deletable": true,
    "editable": true
   },
   "outputs": [
    {
     "data": {
      "image/png": "[encoded data removed]",
      "text/plain": [
       "<matplotlib.figure.Figure at 0x7ffb9180ed50>"
      ]
     },
     "metadata": {},
     "output_type": "display_data"
    }
   ],
   "source": [
    "values, bins = np.histogram(b_energy_ar, bins =100 )\n",
    "cumulative = np.cumsum(values)\n",
    "\n",
    "plt.plot(bins[:-1], len(b_energy_ar)-cumulative, c='blue')\n",
    "\n",
    "#and fill the area containing 90% of electron energies\n",
    "perc = np.percentile(b_energy_ar, 90)\n",
    "indexmin = np.digitize(perc, bins)\n",
    "minvalue = (len(b_energy_ar)-cumulative)[indexmin]\n",
    "plt.fill_between(bins[:-1], 0, len(b_energy_ar)-cumulative, where = ((len(b_energy_ar)-cumulative)>minvalue))\n",
    "plt.show()\n"
   ]
  },
  {
   "cell_type": "markdown",
   "metadata": {
    "deletable": true,
    "editable": true
   },
   "source": [
    "This is the standard method of sampling in literature and as we'll see later it cannot be applied for the tranmission case. "
   ]
  },
  {
   "cell_type": "markdown",
   "metadata": {
    "deletable": true,
    "editable": true
   },
   "source": [
    "## ------------------------------Aside ends here----------------------------------"
   ]
  }
 ],
 "metadata": {
  "kernelspec": {
   "display_name": "Python 2",
   "language": "python",
   "name": "python2"
  },
  "language_info": {
   "codemirror_mode": {
    "name": "ipython",
    "version": 2
   },
   "file_extension": ".py",
   "mimetype": "text/x-python",
   "name": "python",
   "nbconvert_exporter": "python",
   "pygments_lexer": "ipython2",
   "version": "2.7.12"
  }
 },
 "nbformat": 4,
 "nbformat_minor": 2
}
