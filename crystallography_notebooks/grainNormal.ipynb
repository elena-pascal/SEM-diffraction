{
 "cells": [
  {
   "cell_type": "markdown",
   "metadata": {},
   "source": [
    "## 1) Given a direction of interest in the crystal lattice, how does it map on the EBSD detector?\n",
    "\n",
    "#### Following https://www.sciencedirect.com/science/article/pii/S1044580316300924"
   ]
  },
  {
   "cell_type": "markdown",
   "metadata": {},
   "source": [
    "#### To answer this we need a set of 3 variables:"
   ]
  },
  {
   "cell_type": "markdown",
   "metadata": {},
   "source": [
    "#### 1) The angle $\\alpha$  that maps the sample frame on the detector frame via an anticlockwise rotation around the x axis\n",
    "#### $\\alpha = \\theta_{sample} - 90^{\\circ} - \\theta_{detector}$\n",
    "#### $\\theta_{sample}$ is the angle to the horizontal\n",
    "#### $\\theta_{detector}$ is the angle to the vertical"
   ]
  },
  {
   "cell_type": "code",
   "execution_count": 22,
   "metadata": {
    "collapsed": true
   },
   "outputs": [],
   "source": [
    "alpha = 30  #degrees"
   ]
  },
  {
   "cell_type": "markdown",
   "metadata": {},
   "source": [
    "#### 2) The set of Euler angles in the Bunge convetion (ZXZ)"
   ]
  },
  {
   "cell_type": "code",
   "execution_count": 23,
   "metadata": {
    "collapsed": true
   },
   "outputs": [],
   "source": [
    "import sympy as sp\n",
    "Euler = sp.Matrix([12., 14., 0.]) #degrees"
   ]
  },
  {
   "cell_type": "markdown",
   "metadata": {},
   "source": [
    "#### 3) The crystal lattice basis vectors in the form of structure matrix"
   ]
  },
  {
   "cell_type": "code",
   "execution_count": 24,
   "metadata": {
    "collapsed": true
   },
   "outputs": [],
   "source": [
    "def a_hex(a, c):\n",
    "    '''\n",
    "    The direct space structure matrix of a hexagonal system\n",
    "    define by lattice parameters a and c\n",
    "    '''\n",
    "    return sp.Matrix([[a, -a/2., 0.], [0., sp.sqrt(3.)*a/2., 0.], [0., 0., c]])"
   ]
  },
  {
   "cell_type": "code",
   "execution_count": 47,
   "metadata": {},
   "outputs": [],
   "source": [
    "a_GaN = 3.14 #nm\n",
    "c_GaN = 5.14 #nm\n",
    "\n",
    "A_GaN = a_hex(a_GaN, c_GaN) #a, c in nm"
   ]
  },
  {
   "cell_type": "markdown",
   "metadata": {},
   "source": [
    "### Let's say we want to know how the crystal's [001] maps on the detector"
   ]
  },
  {
   "cell_type": "code",
   "execution_count": 26,
   "metadata": {
    "collapsed": true
   },
   "outputs": [],
   "source": [
    "uvw_c = sp.Matrix([0, 0, 1]) # change this direction if you want a different one"
   ]
  },
  {
   "cell_type": "markdown",
   "metadata": {},
   "source": [
    "#### No user modifications beyond this point\n",
    "#### ---------------------------------------------------------------------------------------------------------"
   ]
  },
  {
   "cell_type": "markdown",
   "metadata": {},
   "source": [
    "##### Right handed rotation matrix around z looks like this:"
   ]
  },
  {
   "cell_type": "code",
   "execution_count": 27,
   "metadata": {
    "collapsed": true
   },
   "outputs": [],
   "source": [
    "import mpmath as mp\n",
    "def Rotation_z(gamma):\n",
    "    return sp.Matrix([[sp.cos(mp.radians(gamma)), -sp.sin(mp.radians(gamma)), 0],\\\n",
    "                      [sp.sin(mp.radians(gamma)),  sp.cos(mp.radians(gamma)), 0],\\\n",
    "                      [ 0,                                                 0, 1]] )"
   ]
  },
  {
   "cell_type": "markdown",
   "metadata": {},
   "source": [
    "##### Right handed rotation matrix around x looks like this:"
   ]
  },
  {
   "cell_type": "code",
   "execution_count": 28,
   "metadata": {
    "collapsed": true
   },
   "outputs": [],
   "source": [
    "def Rotation_x(gamma):\n",
    "    return sp.Matrix([[1,                         0,                          0],\\\n",
    "                      [0, sp.cos(mp.radians(gamma)), -sp.sin(mp.radians(gamma))],\\\n",
    "                      [0, sp.sin(mp.radians(gamma)), sp.cos(mp.radians(gamma))]] )\n"
   ]
  },
  {
   "cell_type": "markdown",
   "metadata": {},
   "source": [
    "###### A direction vector [uvw] defined in crystal frame will be in sample frame defined by the following components:"
   ]
  },
  {
   "cell_type": "code",
   "execution_count": 37,
   "metadata": {},
   "outputs": [
    {
     "name": "stdout",
     "output_type": "stream",
     "text": [
      "Matrix([[0.258533726450217, 1.21630555377336, 4.98732003305862]])\n"
     ]
    }
   ],
   "source": [
    "O = Rotation_z(Euler[2]) * Rotation_x(Euler[1]) * Rotation_z(Euler[0])\n",
    "\n",
    "xyz_s = uvw_c.transpose() * A_GaN.transpose() * O\n",
    "\n",
    "print xyz_s"
   ]
  },
  {
   "cell_type": "markdown",
   "metadata": {},
   "source": [
    "##### In detector frame the vector [uvw]  will have components:"
   ]
  },
  {
   "cell_type": "code",
   "execution_count": 36,
   "metadata": {},
   "outputs": [
    {
     "name": "stdout",
     "output_type": "stream",
     "text": [
      "Matrix([[0.0502983903599644, 0.690080063202556, 0.721983087265590]])\n"
     ]
    }
   ],
   "source": [
    "xyz_d = xyz_s * Rotation_x(alpha)\n",
    "\n",
    "print xyz_d"
   ]
  },
  {
   "cell_type": "markdown",
   "metadata": {},
   "source": [
    "\n",
    "\n",
    "\n",
    "## 2) What is the normal to the sample's [001] in the crystal frame of the given grain?"
   ]
  },
  {
   "cell_type": "code",
   "execution_count": 40,
   "metadata": {},
   "outputs": [
    {
     "name": "stdout",
     "output_type": "stream",
     "text": [
      "Matrix([[-0.0444820610023353, -0.0889641220046705, 0.188773487602334]])\n"
     ]
    }
   ],
   "source": [
    "xyz_s_known = sp.Matrix([0, 0, 1])\n",
    "\n",
    "uvw_c = xyz_s_known.transpose() * O.transpose() * A_GaN.transpose().inv()\n",
    "\n",
    "print uvw_c # These are just the vector coordinates in crystal frame not the Miller indices"
   ]
  },
  {
   "cell_type": "markdown",
   "metadata": {},
   "source": [
    "#### The direct space structure matrix for a kexagonal system is:"
   ]
  },
  {
   "cell_type": "code",
   "execution_count": 45,
   "metadata": {
    "collapsed": true
   },
   "outputs": [],
   "source": [
    "def g_hex(a, c):\n",
    "    '''\n",
    "    Real space metric tensor for hexagonal system\n",
    "    define by lattice parameters a and c\n",
    "    '''\n",
    "    return sp.Matrix([[a*a,    -a*a/2.,  0.],\\\n",
    "                      [-a*a/2.,    a*a,  0.],\\\n",
    "                      [0.,          0., c*c]])"
   ]
  },
  {
   "cell_type": "markdown",
   "metadata": {},
   "source": [
    "#### Then the vector we found will be in reciprocal space:\n"
   ]
  },
  {
   "cell_type": "code",
   "execution_count": 49,
   "metadata": {},
   "outputs": [
    {
     "name": "stdout",
     "output_type": "stream",
     "text": [
      "Matrix([[0, -0.657862992987937, 4.98732003305862]])\n"
     ]
    }
   ],
   "source": [
    "g_hkl = uvw_c *  g_hex(a_GaN, c_GaN)\n",
    "print g_hkl"
   ]
  },
  {
   "cell_type": "markdown",
   "metadata": {},
   "source": [
    "##### If these coordinates can be reduced to relative prime integers, ie Miller indices, then we can say we know the plane on which this direction is normal\n",
    "\n",
    "\n",
    "\n"
   ]
  },
  {
   "cell_type": "code",
   "execution_count": null,
   "metadata": {},
   "outputs": [],
   "source": []
  }
 ],
 "metadata": {
  "kernelspec": {
   "display_name": "Python 2",
   "language": "python",
   "name": "python2"
  },
  "language_info": {
   "codemirror_mode": {
    "name": "ipython",
    "version": 2
   },
   "file_extension": ".py",
   "mimetype": "text/x-python",
   "name": "python",
   "nbconvert_exporter": "python",
   "pygments_lexer": "ipython2",
   "version": "2.7.12"
  }
 },
 "nbformat": 4,
 "nbformat_minor": 2
}
