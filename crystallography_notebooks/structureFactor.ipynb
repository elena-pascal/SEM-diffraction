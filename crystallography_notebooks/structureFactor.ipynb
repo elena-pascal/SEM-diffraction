{
 "cells": [
  {
   "cell_type": "markdown",
   "metadata": {},
   "source": [
    "##### Structure factor function for wurtzite materials"
   ]
  },
  {
   "cell_type": "code",
   "execution_count": 110,
   "metadata": {},
   "outputs": [],
   "source": [
    "import numpy as np\n",
    "import math \n",
    "import cmath"
   ]
  },
  {
   "cell_type": "code",
   "execution_count": 2,
   "metadata": {},
   "outputs": [],
   "source": [
    "par = 41.78214\n",
    "\n",
    "def fX(s, Z, a1, a2, a3, a4, b1, b2, b3, b4):\n",
    "\n",
    "    return Z - (par * s*s*(a1 * np.exp(-b1*s*s) +\n",
    "                           a2 * np.exp(-b2*s*s) +\n",
    "                           a3 * np.exp(-b3*s*s) +\n",
    "                           a4 * np.exp(-b4*s*s)) )"
   ]
  },
  {
   "cell_type": "code",
   "execution_count": 3,
   "metadata": {},
   "outputs": [],
   "source": [
    "def fX_N(s):\n",
    "\n",
    "    Z = 7\n",
    "    a1 = 0.572\n",
    "    b1 = 28.847\n",
    "    \n",
    "    a2 = 1.043\n",
    "    b2 = 9.054\n",
    "    \n",
    "    a3 = 0.465\n",
    "    b3 = 2.421\n",
    "    \n",
    "    a4 = 0.131\n",
    "    b4 = 0.317\n",
    "\n",
    "    return fX(s, Z, a1, a2, a3, a4, b1, b2, b3, b4)\n",
    "\n",
    "\n",
    "\n",
    "\n",
    "def fX_Al(s):\n",
    "\n",
    "    Z = 13\n",
    "    a1 = 2.276\n",
    "    b1 = 72.322\n",
    "    \n",
    "    a2 = 2.428\n",
    "    b2 = 19.773\n",
    "    \n",
    "    a3 = 0.858\n",
    "    b3 = 3.080\n",
    "    \n",
    "    a4 = 0.317\n",
    "    b4 = 0.408\n",
    "\n",
    "    return fX(s, Z, a1, a2, a3, a4, b1, b2, b3, b4)\n",
    "\n",
    "\n",
    "\n",
    "\n",
    "\n",
    "def fX_Ga(s):\n",
    "\n",
    "    Z = 31\n",
    "    a1 = 2.321\n",
    "    b1 = 65.602\n",
    "    \n",
    "    a2 = 2.486\n",
    "    b2 = 15.458\n",
    "    \n",
    "    a3 = 1.688\n",
    "    b3 = 2.581\n",
    "    \n",
    "    a4 = 0.599\n",
    "    b4 = 0.351\n",
    "\n",
    "    return fX(s, Z, a1, a2, a3, a4, b1, b2, b3, b4)\n",
    "\n",
    "\n",
    "\n",
    "def fX_In(s):\n",
    "\n",
    "    Z = 49\n",
    "    a1 = 3.153\n",
    "    b1 = 66.649\n",
    "    \n",
    "    a2 = 3.557\n",
    "    b2 = 14.449\n",
    "    \n",
    "    a3 = 2.818\n",
    "    b3 = 2.976\n",
    "    \n",
    "    a4 = 0.889\n",
    "    b4 = 0.435\n",
    "\n",
    "    return fX(s, Z, a1, a2, a3, a4, b1, b2, b3, b4)"
   ]
  },
  {
   "cell_type": "code",
   "execution_count": 4,
   "metadata": {},
   "outputs": [],
   "source": [
    "#GaN wurtzite\n",
    "\n",
    "a_GaN = 3.19 #A\n",
    "c_GaN = 5.19 #A\n",
    "\n",
    "#AlN wurtzite\n",
    "\n",
    "a_AlN = 3.11\n",
    "c_AlN = 4.98\n",
    "\n",
    "#InN wurtzite\n",
    "\n",
    "a_InN = 3.53\n",
    "c_InN = 5.70"
   ]
  },
  {
   "cell_type": "code",
   "execution_count": 5,
   "metadata": {},
   "outputs": [],
   "source": [
    "def s_hkl(a, c, h, k, l):\n",
    "    '''\n",
    "    half the scattering angle divided by the wavelenght\n",
    "    '''\n",
    "    return ( (4/(3*a*a)) * (h*h + k*k + h*k) + (l*l/(c*c)))**(0.5)  /2."
   ]
  },
  {
   "cell_type": "code",
   "execution_count": 6,
   "metadata": {},
   "outputs": [],
   "source": [
    "par_MB = 47.878 # V*A\n",
    "\n",
    "def fe(s, Z, a1, a2, a3, a4, b1, b2, b3, b4):\n",
    "\n",
    "    return par_MB*(a1 * np.exp(-b1*s*s) +\n",
    "                   a2 * np.exp(-b2*s*s) +\n",
    "                   a3 * np.exp(-b3*s*s) +\n",
    "                   a4 * np.exp(-b4*s*s))"
   ]
  },
  {
   "cell_type": "code",
   "execution_count": 7,
   "metadata": {},
   "outputs": [],
   "source": [
    "def fe_N(s):\n",
    "\n",
    "    Z = 7\n",
    "    a1 = 0.572\n",
    "    b1 = 28.847\n",
    "    \n",
    "    a2 = 1.043\n",
    "    b2 = 9.054\n",
    "    \n",
    "    a3 = 0.465\n",
    "    b3 = 2.421\n",
    "    \n",
    "    a4 = 0.131\n",
    "    b4 = 0.317\n",
    "\n",
    "    return fe(s, Z, a1, a2, a3, a4, b1, b2, b3, b4)\n",
    "\n",
    "\n",
    "\n",
    "\n",
    "def fe_Al(s):\n",
    "\n",
    "    Z = 13\n",
    "    a1 = 2.276\n",
    "    b1 = 72.322\n",
    "    \n",
    "    a2 = 2.428\n",
    "    b2 = 19.773\n",
    "    \n",
    "    a3 = 0.858\n",
    "    b3 = 3.080\n",
    "    \n",
    "    a4 = 0.317\n",
    "    b4 = 0.408\n",
    "\n",
    "    return fe(s, Z, a1, a2, a3, a4, b1, b2, b3, b4)\n",
    "\n",
    "\n",
    "\n",
    "\n",
    "\n",
    "def fe_Ga(s):\n",
    "\n",
    "    Z = 31\n",
    "    a1 = 2.321\n",
    "    b1 = 65.602\n",
    "    \n",
    "    a2 = 2.486\n",
    "    b2 = 15.458\n",
    "    \n",
    "    a3 = 1.688\n",
    "    b3 = 2.581\n",
    "    \n",
    "    a4 = 0.599\n",
    "    b4 = 0.351\n",
    "\n",
    "    return fe(s, Z, a1, a2, a3, a4, b1, b2, b3, b4)\n",
    "\n",
    "\n",
    "\n",
    "def fe_In(s):\n",
    "\n",
    "    Z = 49\n",
    "    a1 = 3.153\n",
    "    b1 = 66.649\n",
    "    \n",
    "    a2 = 3.557\n",
    "    b2 = 14.449\n",
    "    \n",
    "    a3 = 2.818\n",
    "    b3 = 2.976\n",
    "    \n",
    "    a4 = 0.889\n",
    "    b4 = 0.435\n",
    "\n",
    "    return fe(s, Z, a1, a2, a3, a4, b1, b2, b3, b4)"
   ]
  },
  {
   "cell_type": "code",
   "execution_count": null,
   "metadata": {},
   "outputs": [],
   "source": []
  },
  {
   "cell_type": "code",
   "execution_count": 8,
   "metadata": {},
   "outputs": [],
   "source": [
    "def SF(f_el1, f_N, h, k, l):\n",
    "    return ((-1.+0j)**(2.*h/3)) * ((-1.+0j)**(4.*k/3)) * (f_el1 + (f_N * (-1.+0j)**(3.*l/8)) ) * (1. + ((-1.+0j)**(2.*(h-k)/3 +l)) )"
   ]
  },
  {
   "cell_type": "code",
   "execution_count": 114,
   "metadata": {},
   "outputs": [],
   "source": [
    "def AlN_SF(h, k ,l ):\n",
    "    return SF(fe_Al(s_hkl(a_AlN, c_AlN, h, k, l)), fe_N(s_hkl(a_AlN, c_AlN, h, k, l)), h, k, l)"
   ]
  },
  {
   "cell_type": "code",
   "execution_count": 115,
   "metadata": {},
   "outputs": [],
   "source": [
    "def GaN_SF(h, k ,l ):\n",
    "    return SF(fe_Ga(s_hkl(a_GaN, c_GaN, h, k, l)), fe_N(s_hkl(a_GaN, c_GaN, h, k, l)), h, k, l)"
   ]
  },
  {
   "cell_type": "code",
   "execution_count": 116,
   "metadata": {},
   "outputs": [],
   "source": [
    "def InN_SF(h, k ,l ):\n",
    "    return SF(fe_In(s_hkl(a_InN, c_InN, h, k, l)), fe_N(s_hkl(a_InN, c_InN, h, k, l)), h, k, l)"
   ]
  },
  {
   "cell_type": "markdown",
   "metadata": {},
   "source": [
    "##### Choose user k, h, l "
   ]
  },
  {
   "cell_type": "code",
   "execution_count": 202,
   "metadata": {},
   "outputs": [],
   "source": [
    "hu = 2\n",
    "ku = -2\n",
    "lu = 1"
   ]
  },
  {
   "cell_type": "code",
   "execution_count": 203,
   "metadata": {},
   "outputs": [
    {
     "name": "stdout",
     "output_type": "stream",
     "text": [
      "(-56.0289027175896+103.8776870956826j)\n",
      "118.02462377015088  e^( 2.06544463752 i)\n"
     ]
    }
   ],
   "source": [
    "AlN_SF_value = AlN_SF(hu, ku, lu)\n",
    "print AlN_SF_value\n",
    "print abs(AlN_SF_value), ' e^(', cmath.phase(AlN_SF_value), 'i)'\n"
   ]
  },
  {
   "cell_type": "code",
   "execution_count": 185,
   "metadata": {},
   "outputs": [
    {
     "name": "stdout",
     "output_type": "stream",
     "text": [
      "0j\n",
      "0.0 e^( 0.0 i)\n"
     ]
    }
   ],
   "source": [
    "GaN_SF_value = GaN_SF(hu, ku, lu)\n",
    "print GaN_SF(hu, ku, lu)\n",
    "print abs(GaN_SF_value), 'e^(', cmath.phase(GaN_SF_value), 'i)'"
   ]
  },
  {
   "cell_type": "code",
   "execution_count": 182,
   "metadata": {},
   "outputs": [
    {
     "name": "stdout",
     "output_type": "stream",
     "text": [
      "(-189.92440787270186+42.70901230859949j)\n",
      "194.66725569076203 e^( 2.92039838861 i)\n"
     ]
    }
   ],
   "source": [
    "InN_SF_value = InN_SF(hu, ku, lu)\n",
    "print InN_SF(hu, ku, lu)\n",
    "print abs(InN_SF_value), 'e^(', cmath.phase(InN_SF_value), 'i)'"
   ]
  },
  {
   "cell_type": "code",
   "execution_count": null,
   "metadata": {},
   "outputs": [],
   "source": []
  }
 ],
 "metadata": {
  "kernelspec": {
   "display_name": "Python 2",
   "language": "python",
   "name": "python2"
  },
  "language_info": {
   "codemirror_mode": {
    "name": "ipython",
    "version": 2
   },
   "file_extension": ".py",
   "mimetype": "text/x-python",
   "name": "python",
   "nbconvert_exporter": "python",
   "pygments_lexer": "ipython2",
   "version": "2.7.15rc1"
  }
 },
 "nbformat": 4,
 "nbformat_minor": 2
}
