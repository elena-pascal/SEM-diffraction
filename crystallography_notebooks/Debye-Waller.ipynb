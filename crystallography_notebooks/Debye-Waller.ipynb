{
 "cells": [
  {
   "cell_type": "markdown",
   "metadata": {},
   "source": [
    "### Debye-Waller factors  "
   ]
  },
  {
   "cell_type": "code",
   "execution_count": 77,
   "metadata": {},
   "outputs": [],
   "source": [
    "import numpy as np\n"
   ]
  },
  {
   "cell_type": "markdown",
   "metadata": {},
   "source": [
    "First we will use the polynomial fit formualtion to experimental data proposed by Gao&Peng 1999"
   ]
  },
  {
   "cell_type": "code",
   "execution_count": 78,
   "metadata": {},
   "outputs": [],
   "source": [
    "def DW_Gao(T, a0, a1, a2, a3, a4):\n",
    "    '''\n",
    "    polynomial fit parameters from Gao & Peng 99\n",
    "    T must be given in Kelvins\n",
    "    B is returned in A^2\n",
    "    '''\n",
    "   \n",
    "    B = a0 + (a1*T) + (a2*T**2) + (a3*T**3) + (a4*T**4)\n",
    "    return B\n",
    "    "
   ]
  },
  {
   "cell_type": "code",
   "execution_count": 89,
   "metadata": {},
   "outputs": [
    {
     "name": "stdout",
     "output_type": "stream",
     "text": [
      "0.8333215\n"
     ]
    }
   ],
   "source": [
    "# Al\n",
    "a0_Al = 0.1849 \n",
    "a1_Al = 0.1630e-02\n",
    "a2_Al = 0.2469e-05\n",
    "a3_Al = -0.2630e-08\n",
    "a4_Al = 0.1015e-11\n",
    "\n",
    "DW_Al_Gao = DW_Gao(300, a0_Al, a1_Al, a2_Al, a3_Al, a4_Al)\n",
    "\n",
    "print DW_Al_Gao"
   ]
  },
  {
   "cell_type": "code",
   "execution_count": 82,
   "metadata": {},
   "outputs": [
    {
     "name": "stdout",
     "output_type": "stream",
     "text": [
      "0.49085\n"
     ]
    }
   ],
   "source": [
    "# Ga\n",
    "a0_Ga = 0.113\n",
    "a1_Ga = 0.400e-03\n",
    "a2_Ga = 0.66e-05\n",
    "a3_Ga = -0.18e-07\n",
    "a4_Ga = 0.185e-10\n",
    "\n",
    "DW_Ga_Gao = DW_Gao(300, a0_Ga, a1_Ga, a2_Ga, a3_Ga, a4_Ga)\n",
    "\n",
    "print DW_Ga_Gao"
   ]
  },
  {
   "cell_type": "code",
   "execution_count": 87,
   "metadata": {},
   "outputs": [
    {
     "name": "stdout",
     "output_type": "stream",
     "text": [
      "0.42791\n"
     ]
    }
   ],
   "source": [
    "# In\n",
    "a0_In = 0.08\n",
    "a1_In = 0.77e-03\n",
    "a2_In = 0.48e-05\n",
    "a3_In = -0.12e-07\n",
    "a4_In = 0.11e-11\n",
    "\n",
    "DW_In_Gao = DW_Gao(300, a0_In, a1_In, a2_In, a3_In, a4_In)\n",
    "\n",
    "print DW_In_Gao"
   ]
  },
  {
   "cell_type": "markdown",
   "metadata": {},
   "source": [
    "Second, we will use the first principles phonon calculations from Schowalter et al. 2009"
   ]
  },
  {
   "cell_type": "code",
   "execution_count": 103,
   "metadata": {},
   "outputs": [
    {
     "name": "stdout",
     "output_type": "stream",
     "text": [
      "0.252661872668\n",
      "0.278980817737\n"
     ]
    }
   ],
   "source": [
    "#AlN\n",
    "u2_11_Al_AlN = 0.0032\n",
    "u2_33_Al_AlN = 0.0032\n",
    "\n",
    "u2_Al_AlN = 2*u2_11_Al_AlN + u2_33_Al_AlN\n",
    "\n",
    "u2_11_N_AlN = 0.0036\n",
    "u2_33_N_AlN = 0.0034\n",
    "\n",
    "u2_N_AlN = 2*u2_11_N_AlN + u2_33_N_AlN\n",
    "\n",
    "print u2_Al_AlN*8.*(np.pi**2)/3\n",
    "print u2_N_AlN*8.*(np.pi**2)/3"
   ]
  },
  {
   "cell_type": "code",
   "execution_count": 102,
   "metadata": {},
   "outputs": [
    {
     "name": "stdout",
     "output_type": "stream",
     "text": [
      "0.265821345203\n",
      "0.294772184779\n"
     ]
    }
   ],
   "source": [
    "#GaN\n",
    "u2_11_Ga_GaN = 0.0034\n",
    "u2_33_Ga_GaN = 0.0033\n",
    "\n",
    "u2_Ga_GaN = 2*u2_11_Ga_GaN + u2_33_Ga_GaN\n",
    "\n",
    "u2_11_N_GaN = 0.0039\n",
    "u2_33_N_GaN = 0.0034\n",
    "\n",
    "u2_N_GaN = 2*u2_11_N_GaN + u2_33_N_GaN\n",
    "\n",
    "\n",
    "print u2_Ga_GaN*8.*(np.pi**2)/3\n",
    "print u2_N_GaN*8.*(np.pi**2)/3\n",
    "\n"
   ]
  },
  {
   "cell_type": "code",
   "execution_count": 101,
   "metadata": {},
   "outputs": [
    {
     "name": "stdout",
     "output_type": "stream",
     "text": [
      "0.460581538718\n",
      "0.505323745336\n"
     ]
    }
   ],
   "source": [
    "#InN\n",
    "u2_11_In_InN = 0.0059\n",
    "u2_33_In_InN = 0.0057\n",
    "\n",
    "u2_In_InN = 2*u2_11_In_InN + u2_33_In_InN\n",
    "\n",
    "u2_11_N_InN = 0.0065\n",
    "u2_33_N_InN = 0.0062\n",
    "\n",
    "u2_N_InN = 2*u2_11_N_InN + u2_33_N_InN\n",
    "\n",
    "\n",
    "\n",
    "print u2_In_InN*8.*(np.pi**2)/3\n",
    "print u2_N_InN*8.*(np.pi**2)/3"
   ]
  },
  {
   "cell_type": "code",
   "execution_count": null,
   "metadata": {},
   "outputs": [],
   "source": []
  }
 ],
 "metadata": {
  "kernelspec": {
   "display_name": "Python 2",
   "language": "python",
   "name": "python2"
  },
  "language_info": {
   "codemirror_mode": {
    "name": "ipython",
    "version": 2
   },
   "file_extension": ".py",
   "mimetype": "text/x-python",
   "name": "python",
   "nbconvert_exporter": "python",
   "pygments_lexer": "ipython2",
   "version": "2.7.12"
  }
 },
 "nbformat": 4,
 "nbformat_minor": 2
}
